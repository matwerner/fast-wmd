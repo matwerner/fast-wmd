{
 "cells": [
  {
   "cell_type": "code",
   "execution_count": 1,
   "metadata": {},
   "outputs": [],
   "source": [
    "from gensim.corpora.dictionary import Dictionary\n",
    "from nltk.corpus import stopwords\n",
    "\n",
    "import json\n",
    "import numpy as np\n",
    "import os\n",
    "import re\n",
    "import string\n",
    "import sys\n",
    "\n",
    "sys.path.append(os.path.abspath('../wrapper'))\n",
    "import fastwmd\n",
    "\n",
    "# Initialize logging.\n",
    "import logging\n",
    "logging.basicConfig(format='%(asctime)s : %(levelname)s : %(message)s')"
   ]
  },
  {
   "cell_type": "markdown",
   "metadata": {},
   "source": [
    "# Declare variables"
   ]
  },
  {
   "cell_type": "code",
   "execution_count": 2,
   "metadata": {},
   "outputs": [],
   "source": [
    "articles_path = \"../dataset/wikipedia/AA/wiki_00\"\n",
    "embeddings_path = \"../dataset/wikipedia/glove_s300.txt\""
   ]
  },
  {
   "cell_type": "markdown",
   "metadata": {},
   "source": [
    "# Preprocessing"
   ]
  },
  {
   "cell_type": "code",
   "execution_count": 3,
   "metadata": {},
   "outputs": [],
   "source": [
    "# Remove stopwords.\n",
    "stop_words = stopwords.words('portuguese')\n",
    "\n",
    "# String Ponctuation\n",
    "punctuation = string.punctuation\n",
    "numbers = \"0123456789\"\n",
    "\n",
    "# Regex for removing all non-alphabet letters or spaces\n",
    "regex = re.compile('([' + punctuation + numbers + ']|\\n|\\t)')\n",
    "\n",
    "def preprocessing(document):\n",
    "    # Remove all non-alphabet letters or spaces\n",
    "    processed_document = regex.sub(' ', document)\n",
    "\n",
    "    # Remove extra spaces and lower\n",
    "    processed_document = [token.lower()\n",
    "                          for token in processed_document.split(' ')\n",
    "                          if token and token not in stop_words]\n",
    "    \n",
    "    return processed_document"
   ]
  },
  {
   "cell_type": "markdown",
   "metadata": {},
   "source": [
    "# Get Corpora"
   ]
  },
  {
   "cell_type": "code",
   "execution_count": 4,
   "metadata": {},
   "outputs": [],
   "source": [
    "def load_corpora(corpora_path, token_min, corpora_limit):\n",
    "    documents = {}\n",
    "    with open(corpora_path, mode=\"r\", encoding=\"utf-8\") as fp:\n",
    "        for line in fp:\n",
    "            # Parse Json\n",
    "            json_document = json.loads(line)\n",
    "            \n",
    "            # Get information needed\n",
    "            title, text = json_document[\"title\"], json_document[\"text\"]\n",
    "            \n",
    "            # Apply preprocessing\n",
    "            document = preprocessing(text)\n",
    "\n",
    "            # Add\n",
    "            if len(document) >= token_min:\n",
    "                documents[title] = document\n",
    "            if len(documents) >= corpora_limit:\n",
    "                break\n",
    "    return documents"
   ]
  },
  {
   "cell_type": "markdown",
   "metadata": {},
   "source": [
    "# Load data"
   ]
  },
  {
   "cell_type": "markdown",
   "metadata": {},
   "source": [
    "## Articles"
   ]
  },
  {
   "cell_type": "code",
   "execution_count": 5,
   "metadata": {},
   "outputs": [
    {
     "name": "stdout",
     "output_type": "stream",
     "text": [
      "CPU times: user 49.6 s, sys: 463 ms, total: 50 s\n",
      "Wall time: 50.1 s\n"
     ]
    }
   ],
   "source": [
    "%time articles = load_corpora(articles_path, 100, 10001)"
   ]
  },
  {
   "cell_type": "markdown",
   "metadata": {},
   "source": [
    "### Mean of words per article"
   ]
  },
  {
   "cell_type": "code",
   "execution_count": 6,
   "metadata": {},
   "outputs": [
    {
     "data": {
      "text/plain": [
       "1001.5756989247312"
      ]
     },
     "execution_count": 6,
     "metadata": {},
     "output_type": "execute_result"
    }
   ],
   "source": [
    "sum([len(text) for text in articles.values()])/len(articles)"
   ]
  },
  {
   "cell_type": "markdown",
   "metadata": {},
   "source": [
    "## Embeddings"
   ]
  },
  {
   "cell_type": "code",
   "execution_count": 7,
   "metadata": {},
   "outputs": [
    {
     "name": "stdout",
     "output_type": "stream",
     "text": [
      "CPU times: user 2.86 s, sys: 56 ms, total: 2.92 s\n",
      "Wall time: 2.91 s\n"
     ]
    }
   ],
   "source": [
    "%time embeddings = fastwmd.Embeddings(embeddings_path, 30000)"
   ]
  },
  {
   "cell_type": "markdown",
   "metadata": {},
   "source": [
    "## Related words"
   ]
  },
  {
   "cell_type": "code",
   "execution_count": 8,
   "metadata": {},
   "outputs": [
    {
     "name": "stdout",
     "output_type": "stream",
     "text": [
      "CPU times: user 1min 51s, sys: 476 ms, total: 1min 52s\n",
      "Wall time: 1min 51s\n"
     ]
    }
   ],
   "source": [
    "%time cache = fastwmd.RelatedWords(embeddings, 16)"
   ]
  },
  {
   "cell_type": "markdown",
   "metadata": {},
   "source": [
    "# Experiments"
   ]
  },
  {
   "cell_type": "markdown",
   "metadata": {},
   "source": [
    "## Dictionary"
   ]
  },
  {
   "cell_type": "code",
   "execution_count": 9,
   "metadata": {},
   "outputs": [
    {
     "name": "stdout",
     "output_type": "stream",
     "text": [
      "CPU times: user 13 s, sys: 28 ms, total: 13 s\n",
      "Wall time: 13 s\n"
     ]
    }
   ],
   "source": [
    "%time dictionary = Dictionary(articles.values(), prune_at=30000)"
   ]
  },
  {
   "cell_type": "markdown",
   "metadata": {},
   "source": [
    "## BoW"
   ]
  },
  {
   "cell_type": "code",
   "execution_count": 10,
   "metadata": {},
   "outputs": [
    {
     "name": "stdout",
     "output_type": "stream",
     "text": [
      "CPU times: user 7.3 s, sys: 156 ms, total: 7.46 s\n",
      "Wall time: 7.46 s\n"
     ]
    }
   ],
   "source": [
    "%time corpus = [dictionary.doc2bow(text) for text in articles.values()]"
   ]
  },
  {
   "cell_type": "markdown",
   "metadata": {},
   "source": [
    "## WMD"
   ]
  },
  {
   "cell_type": "markdown",
   "metadata": {},
   "source": [
    "### Embedding index"
   ]
  },
  {
   "cell_type": "code",
   "execution_count": 11,
   "metadata": {},
   "outputs": [],
   "source": [
    "token2idx = {token:index\n",
    "             for index, token in enumerate(embeddings.get_tokens())}"
   ]
  },
  {
   "cell_type": "markdown",
   "metadata": {},
   "source": [
    "### Dictionary index to Embedding index"
   ]
  },
  {
   "cell_type": "code",
   "execution_count": 12,
   "metadata": {},
   "outputs": [],
   "source": [
    "idx2idx = {dict_idx:token2idx[token]\n",
    "           for dict_idx, token in dictionary.items()\n",
    "           if token in token2idx}"
   ]
  },
  {
   "cell_type": "markdown",
   "metadata": {},
   "source": [
    "### Convert from text to nbow"
   ]
  },
  {
   "cell_type": "code",
   "execution_count": 13,
   "metadata": {},
   "outputs": [],
   "source": [
    "def get_nbow(document):\n",
    "    title, text = document\n",
    "    \n",
    "    # Generate BoW\n",
    "    bow = dictionary.doc2bow(text)\n",
    "    \n",
    "    # Convert index from dictionary to index from embedding\n",
    "    bow = {idx2idx[idx]: count\n",
    "            for idx, count in bow\n",
    "            if idx in idx2idx}\n",
    "    \n",
    "    # Get indices\n",
    "    indices = list(bow.keys())\n",
    "    \n",
    "    # Get and normalize frequencies\n",
    "    counters = np.array(list(bow.values()), dtype=np.float32)\n",
    "    counters = counters/counters.sum()\n",
    "    \n",
    "    #return (title, (title, indices, counters))\n",
    "    nbow = [(index, freq) for index, freq in zip(indices, counters)]\n",
    "    nbow = sorted(nbow, key=lambda x:x[0])\n",
    "    return (title, nbow)"
   ]
  },
  {
   "cell_type": "code",
   "execution_count": 14,
   "metadata": {},
   "outputs": [],
   "source": [
    "nbows = dict([get_nbow(article) for article in articles.items()])"
   ]
  },
  {
   "cell_type": "markdown",
   "metadata": {},
   "source": [
    "### Instantiate"
   ]
  },
  {
   "cell_type": "code",
   "execution_count": 15,
   "metadata": {},
   "outputs": [],
   "source": [
    "title1 = 'Brasil'\n",
    "title2 = 'Alemanha'"
   ]
  },
  {
   "cell_type": "markdown",
   "metadata": {},
   "source": [
    "### WMD"
   ]
  },
  {
   "cell_type": "code",
   "execution_count": 16,
   "metadata": {},
   "outputs": [
    {
     "name": "stdout",
     "output_type": "stream",
     "text": [
      "CPU times: user 7 µs, sys: 0 ns, total: 7 µs\n",
      "Wall time: 10 µs\n"
     ]
    }
   ],
   "source": [
    "%time wmd = fastwmd.WMD(embeddings)"
   ]
  },
  {
   "cell_type": "code",
   "execution_count": 17,
   "metadata": {},
   "outputs": [
    {
     "name": "stdout",
     "output_type": "stream",
     "text": [
      "CPU times: user 1min 18s, sys: 637 ms, total: 1min 19s\n",
      "Wall time: 1min 18s\n"
     ]
    },
    {
     "data": {
      "text/plain": [
       "3.700040102005005"
      ]
     },
     "execution_count": 17,
     "metadata": {},
     "output_type": "execute_result"
    }
   ],
   "source": [
    "%time wmd.compute_distance(nbows[title1], nbows[title2])"
   ]
  },
  {
   "cell_type": "markdown",
   "metadata": {},
   "source": [
    "### RWMD"
   ]
  },
  {
   "cell_type": "code",
   "execution_count": 18,
   "metadata": {},
   "outputs": [
    {
     "name": "stdout",
     "output_type": "stream",
     "text": [
      "CPU times: user 5 µs, sys: 0 ns, total: 5 µs\n",
      "Wall time: 6.44 µs\n"
     ]
    }
   ],
   "source": [
    "%time rwmd = fastwmd.RWMD(embeddings)"
   ]
  },
  {
   "cell_type": "code",
   "execution_count": 19,
   "metadata": {},
   "outputs": [
    {
     "name": "stdout",
     "output_type": "stream",
     "text": [
      "CPU times: user 176 ms, sys: 20 ms, total: 196 ms\n",
      "Wall time: 196 ms\n"
     ]
    },
    {
     "data": {
      "text/plain": [
       "3.326050043106079"
      ]
     },
     "execution_count": 19,
     "metadata": {},
     "output_type": "execute_result"
    }
   ],
   "source": [
    "%time rwmd.compute_distance(nbows[title1], nbows[title2])"
   ]
  },
  {
   "cell_type": "markdown",
   "metadata": {},
   "source": [
    "### Rel-WMD"
   ]
  },
  {
   "cell_type": "code",
   "execution_count": 20,
   "metadata": {},
   "outputs": [
    {
     "name": "stdout",
     "output_type": "stream",
     "text": [
      "CPU times: user 6 µs, sys: 0 ns, total: 6 µs\n",
      "Wall time: 9.3 µs\n"
     ]
    }
   ],
   "source": [
    "%time rel_wmd = fastwmd.RelWMD(cache)"
   ]
  },
  {
   "cell_type": "code",
   "execution_count": 21,
   "metadata": {},
   "outputs": [
    {
     "name": "stdout",
     "output_type": "stream",
     "text": [
      "CPU times: user 83.2 ms, sys: 24 µs, total: 83.2 ms\n",
      "Wall time: 83.8 ms\n"
     ]
    },
    {
     "data": {
      "text/plain": [
       "3.932708263397217"
      ]
     },
     "execution_count": 21,
     "metadata": {},
     "output_type": "execute_result"
    }
   ],
   "source": [
    "%time rel_wmd.compute_distance(nbows[title1], nbows[title2])"
   ]
  },
  {
   "cell_type": "markdown",
   "metadata": {},
   "source": [
    "### Rel-RWMD"
   ]
  },
  {
   "cell_type": "code",
   "execution_count": 22,
   "metadata": {},
   "outputs": [
    {
     "name": "stdout",
     "output_type": "stream",
     "text": [
      "CPU times: user 5 µs, sys: 0 ns, total: 5 µs\n",
      "Wall time: 6.2 µs\n"
     ]
    }
   ],
   "source": [
    "%time rel_rwmd = fastwmd.RelRWMD(cache)"
   ]
  },
  {
   "cell_type": "code",
   "execution_count": 23,
   "metadata": {},
   "outputs": [
    {
     "name": "stdout",
     "output_type": "stream",
     "text": [
      "CPU times: user 9.63 ms, sys: 0 ns, total: 9.63 ms\n",
      "Wall time: 9.59 ms\n"
     ]
    },
    {
     "data": {
      "text/plain": [
       "3.4973998069763184"
      ]
     },
     "execution_count": 23,
     "metadata": {},
     "output_type": "execute_result"
    }
   ],
   "source": [
    "%time rel_rwmd.compute_distance(nbows[title1], nbows[title2])"
   ]
  },
  {
   "cell_type": "markdown",
   "metadata": {},
   "source": [
    "## Tests RWMD x Rel-RWMD"
   ]
  },
  {
   "cell_type": "markdown",
   "metadata": {},
   "source": [
    "### Some articles available"
   ]
  },
  {
   "cell_type": "code",
   "execution_count": 24,
   "metadata": {},
   "outputs": [],
   "source": [
    "titles = [(key, len(doc)) for key, doc in nbows.items()]"
   ]
  },
  {
   "cell_type": "code",
   "execution_count": 25,
   "metadata": {},
   "outputs": [
    {
     "data": {
      "text/plain": [
       "[(0, ('Astronomia', 858)),\n",
       " (1, ('América Latina', 1962)),\n",
       " (2, ('Albino Forjaz de Sampaio', 416)),\n",
       " (3, ('Anno Domini', 520)),\n",
       " (4, ('Aquiles', 1296)),\n",
       " (5, ('Anarcocapitalismo', 1278)),\n",
       " (6, ('Anarquismo', 2564)),\n",
       " (7, ('Albert Einstein', 2445)),\n",
       " (8, ('Aquecimento global', 3420)),\n",
       " (9, ('Adriano', 1336)),\n",
       " (10, ('Alexandre (nome)', 99)),\n",
       " (11, ('Afonso, Príncipe de Portugal (1475–1491)', 85)),\n",
       " (12, ('A Ideia Perigosa de Darwin', 144)),\n",
       " (13, ('Agricultura', 390)),\n",
       " (14, ('Afeganistão', 981)),\n",
       " (15, ('História do Afeganistão', 1550)),\n",
       " (16, ('Argentina', 2536)),\n",
       " (17, ('Algoritmo', 837)),\n",
       " (18, ('Ananás', 679)),\n",
       " (19, ('Angola', 2059))]"
      ]
     },
     "execution_count": 25,
     "metadata": {},
     "output_type": "execute_result"
    }
   ],
   "source": [
    "list(enumerate(titles[:20]))"
   ]
  },
  {
   "cell_type": "code",
   "execution_count": 26,
   "metadata": {},
   "outputs": [
    {
     "name": "stdout",
     "output_type": "stream",
     "text": [
      "CPU times: user 22.8 s, sys: 212 ms, total: 23 s\n",
      "Wall time: 22.9 s\n"
     ]
    }
   ],
   "source": [
    "nbows1 = [nbows['Algoritmo']]\n",
    "nbows2 = list(nbows.values())\n",
    "%time distances = rwmd.compute_distances(nbows1, nbows2[:1000])"
   ]
  },
  {
   "cell_type": "code",
   "execution_count": 27,
   "metadata": {},
   "outputs": [],
   "source": [
    "standard_rank = [(title, distance) for title, distance in zip(list(nbows.keys()), distances[0])]\n",
    "standard_rank = sorted(standard_rank, key=lambda x: x[1])"
   ]
  },
  {
   "cell_type": "code",
   "execution_count": 30,
   "metadata": {},
   "outputs": [
    {
     "name": "stdout",
     "output_type": "stream",
     "text": [
      "CPU times: user 2.42 s, sys: 8.08 ms, total: 2.42 s\n",
      "Wall time: 2.41 s\n"
     ]
    }
   ],
   "source": [
    "%time hashed_distances = rel_rwmd.compute_distances(nbows1, nbows2[:1000])"
   ]
  },
  {
   "cell_type": "code",
   "execution_count": 31,
   "metadata": {},
   "outputs": [],
   "source": [
    "hashed_rank = [(title, distance) for title, distance in zip(list(nbows.keys()), hashed_distances[0])]\n",
    "hashed_rank = sorted(hashed_rank, key=lambda x: x[1])"
   ]
  },
  {
   "cell_type": "code",
   "execution_count": 32,
   "metadata": {},
   "outputs": [
    {
     "name": "stdout",
     "output_type": "stream",
     "text": [
      "True \tAlgoritmo\t0.00 \tAlgoritmo\t0.00\n",
      "True \tCompilador\t3.57 \tCompilador\t3.89\n",
      "True \tNúcleo (sistema operacional)\t4.05 \tNúcleo (sistema operacional)\t4.31\n",
      "False \tPrograma de computador\t4.12 \tSistema operativo\t4.44\n",
      "True \tComputador quântico\t4.16 \tComputador quântico\t4.55\n",
      "False \tSistema operativo\t4.17 \tC (linguagem de programação)\t4.55\n",
      "False \tC (linguagem de programação)\t4.18 \tRede neural artificial\t4.60\n",
      "False \tSoftware\t4.29 \tPrograma de computador\t4.63\n",
      "False \tRede neural artificial\t4.29 \tLinguagem formal\t4.72\n",
      "False \tLinguagem formal\t4.33 \tCriptografia\t4.74\n",
      "False \tProgramação de computadores\t4.35 \tComunicação\t4.76\n",
      "False \tMultitarefa\t4.36 \tLógica\t4.77\n",
      "False \tCriptografia\t4.41 \tSoftware\t4.78\n",
      "False \tComunicação\t4.44 \tPeer-to-peer\t4.78\n",
      "True \tExpressão regular\t4.45 \tExpressão regular\t4.80\n",
      "False \tPerl\t4.45 \tMultitarefa\t4.83\n",
      "False \tLógica\t4.45 \tProgramação de computadores\t4.84\n",
      "False \tPeer-to-peer\t4.46 \tTermodinâmica\t4.84\n",
      "False \tCiência\t4.46 \tTCP/IP\t4.85\n",
      "False \tTermodinâmica\t4.47 \tUnix\t4.85\n",
      "True \tCiência da computação\t4.48 \tCiência da computação\t4.86\n",
      "False \tFísica\t4.49 \tInfinito\t4.87\n",
      "False \tPHP\t4.49 \tFísica\t4.87\n",
      "False \tMúsica\t4.49 \tPHP\t4.88\n",
      "False \tShell (computação)\t4.51 \tLinguística\t4.88\n",
      "False \tLíngua japonesa\t4.52 \tCiência\t4.89\n",
      "False \tFotografia\t4.52 \tMétodo científico\t4.89\n",
      "False \tLinguística\t4.52 \tShell (computação)\t4.90\n",
      "False \tUnix\t4.53 \tEngenharia de software\t4.90\n",
      "False \tOsciloscópio\t4.53 \tHypertext Transfer Protocol\t4.92\n",
      "False \tHypertext Transfer Protocol\t4.53 \tOsciloscópio\t4.93\n",
      "False \tTeoremas da incompletude de Gödel\t4.54 \tCinemática\t4.93\n",
      "False \tWiki\t4.55 \tLíngua japonesa\t4.93\n",
      "False \tTCP/IP\t4.56 \tUnidade de disco rígido\t4.94\n",
      "False \tEngenharia de software\t4.56 \tLinux\t4.94\n",
      "False \tSistema de votação\t4.56 \tWiki\t4.94\n",
      "False \tMatemática\t4.56 \tFotografia\t4.96\n",
      "False \tSpam\t4.57 \tTeoremas da incompletude de Gödel\t4.96\n",
      "False \tMáquina virtual\t4.57 \tPerl\t4.98\n",
      "False \tMétodo científico\t4.58 \tMatemática\t4.98\n",
      "False \tArquivística\t4.58 \tPolímero\t4.98\n",
      "False \tUnidade de disco rígido\t4.58 \tMúsica\t4.99\n",
      "False \tPolímero\t4.59 \tTeoria da informação\t4.99\n",
      "False \tInfinito\t4.59 \tSoftware livre\t5.01\n",
      "False \tAristóteles\t4.60 \tFalácia\t5.02\n",
      "False \tEvolução\t4.61 \tAristóteles\t5.02\n",
      "False \tEconomia\t4.61 \tComputador pessoal\t5.03\n",
      "False \tPsicologia\t4.62 \tArquivística\t5.03\n",
      "False \tLinux\t4.63 \tEconomia\t5.04\n",
      "False \tProgramação funcional\t4.63 \tMassa\t5.04\n",
      "False \tTeoria da informação\t4.63 \tRetórica\t5.05\n",
      "False \tTeoria da conspiração\t4.63 \tHipertexto\t5.05\n",
      "False \tTeoria dos jogos\t4.63 \tPôquer\t5.06\n",
      "False \tCinemática\t4.64 \tSpam\t5.06\n",
      "False \tInternet\t4.65 \tPsicologia\t5.08\n",
      "False \tNúmero ordinal\t4.65 \tEvolução\t5.08\n",
      "False \tGestalt\t4.66 \tLógica matemática\t5.08\n",
      "False \tSoftware livre\t4.66 \tNúmero ordinal\t5.08\n",
      "False \tVerdade\t4.66 \tInternet\t5.09\n",
      "False \tJornalismo\t4.66 \tEnzima\t5.09\n",
      "False \tComputador pessoal\t4.67 \tQuímica\t5.10\n",
      "False \tSociologia\t4.67 \tDilema do prisioneiro\t5.10\n",
      "False \tQuímica\t4.67 \tSistema de votação\t5.10\n",
      "False \tFalácia\t4.67 \tCladística\t5.11\n",
      "False \tDilema do prisioneiro\t4.68 \tLíngua artificial\t5.12\n",
      "False \tMemória de acesso aleatório\t4.68 \tSemiótica\t5.12\n",
      "False \tRetórica\t4.69 \tVerdade\t5.12\n",
      "False \tPôquer\t4.69 \tEsperanto\t5.12\n",
      "False \tFilosofia\t4.69 \tTeorema de Pitágoras\t5.12\n",
      "False \tSemiótica\t4.69 \tProgramação funcional\t5.13\n",
      "False \tEnzima\t4.69 \tTeoria dos jogos\t5.13\n",
      "False \tWorld Wide Web\t4.70 \tEngenharia\t5.13\n",
      "False \tProcarionte\t4.71 \tJornalismo\t5.13\n",
      "False \tHipertexto\t4.71 \tGestalt\t5.13\n",
      "False \tHardware\t4.71 \tMáquina virtual\t5.14\n",
      "False \tArte\t4.72 \tMemória de acesso aleatório\t5.14\n",
      "False \tXadrez\t4.72 \tWorld Wide Web\t5.14\n",
      "False \tPitágoras\t4.72 \tTeoria da conspiração\t5.15\n",
      "False \tAnálise numérica\t4.72 \tClassificação científica\t5.15\n",
      "False \tNoam Chomsky\t4.72 \tProcarionte\t5.15\n",
      "False \tNúcleo celular\t4.72 \tSociologia\t5.16\n",
      "False \tLíngua artificial\t4.73 \tReação em cadeia da polimerase\t5.17\n",
      "False \tÁcido desoxirribonucleico\t4.73 \tDireito\t5.18\n",
      "False \tCladística\t4.73 \tPlantae\t5.19\n",
      "False \tEngenharia\t4.73 \tÁcido desoxirribonucleico\t5.19\n",
      "False \tLógica matemática\t4.73 \tHardware\t5.19\n",
      "False \tClassificação científica\t4.74 \tFilosofia\t5.19\n",
      "False \tVolapuque\t4.74 \tNúcleo celular\t5.19\n",
      "False \tMassa\t4.74 \tCampo magnético\t5.20\n",
      "False \tPlaca-mãe\t4.74 \tEspécie\t5.20\n",
      "False \tAteísmo\t4.74 \tTeoria dos grafos\t5.21\n",
      "False \tTeorema de Pitágoras\t4.74 \tVolapuque\t5.21\n",
      "False \tDeus\t4.75 \tNoam Chomsky\t5.21\n",
      "False \tOntogenia\t4.75 \tQuark\t5.21\n",
      "False \tMichelangelo\t4.75 \tUML\t5.22\n",
      "False \tEsperanto\t4.75 \tOntogenia\t5.22\n",
      "False \tLeis do xadrez\t4.76 \tDesenho\t5.22\n",
      "False \tFreeBSD\t4.76 \tConteúdo livre\t5.23\n",
      "False \tBarroco\t4.77 \tFerdinand de Saussure\t5.23\n",
      "False \tFile Transfer Protocol\t4.77 \tXadrez\t5.23\n",
      "False \tEEPROM\t4.77 \tPlaca-mãe\t5.23\n",
      "False \tMisticismo\t4.77 \tEngenharia civil\t5.23\n",
      "False \tPlantae\t4.77 \tDeus\t5.23\n",
      "False \tJudaísmo\t4.77 \tEcologia\t5.23\n",
      "False \tReação em cadeia da polimerase\t4.78 \tJava (linguagem de programação)\t5.24\n",
      "False \tReligião\t4.78 \tLeis do xadrez\t5.24\n",
      "False \tEngenharia civil\t4.78 \tBerkeley Software Distribution\t5.25\n",
      "False \tBerkeley Software Distribution\t4.79 \tFreeBSD\t5.26\n",
      "False \tHistoriografia\t4.79 \tAdministração\t5.26\n",
      "False \tQuark\t4.79 \tAnálise numérica\t5.26\n",
      "False \tUML\t4.80 \tGeografia\t5.26\n",
      "False \tEcologia\t4.80 \tHipótese de Riemann\t5.28\n",
      "False \tAdministração\t4.81 \tComplexo de Golgi\t5.28\n",
      "False \tAntropologia\t4.81 \tPitágoras\t5.28\n",
      "False \tFerdinand de Saussure\t4.81 \tAteísmo\t5.30\n",
      "False \tGeografia\t4.81 \tEEPROM\t5.30\n",
      "False \tDireito\t4.82 \tJudaísmo\t5.30\n",
      "False \tHipótese de Riemann\t4.82 \tPlaca de vídeo\t5.31\n",
      "False \tAnarcocapitalismo\t4.82 \tMicrosoft Windows\t5.31\n",
      "False \tEspécie\t4.82 \tLatim\t5.32\n",
      "False \tDesenho\t4.82 \tAnarcocapitalismo\t5.32\n",
      "False \tHistória do pensamento económico\t4.82 \tPierre de Fermat\t5.32\n",
      "False \tJava (linguagem de programação)\t4.82 \tArte\t5.32\n",
      "False \tConteúdo livre\t4.83 \tHistória da biologia\t5.32\n",
      "False \tGamão\t4.83 \tTabela periódica\t5.33\n",
      "False \tE-mail\t4.83 \tKDE\t5.33\n",
      "False \tCerveja\t4.83 \tSymbian\t5.33\n",
      "False \tJesus\t4.84 \tHistória do pensamento económico\t5.34\n",
      "False \tCampo magnético\t4.84 \tHistoriografia\t5.34\n",
      "False \tNicolau Maquiavel\t4.85 \tMisticismo\t5.34\n",
      "False \tPierre de Fermat\t4.85 \tMichelangelo\t5.36\n",
      "False \tDescobridores de Catan\t4.85 \tCerveja\t5.36\n",
      "False \tCientologia\t4.86 \tJesus\t5.36\n",
      "False \tPlaca de vídeo\t4.87 \tGNOME\t5.36\n",
      "False \tLatim\t4.87 \tMovimento browniano\t5.36\n",
      "False \tComplexo de Golgi\t4.88 \tFile Transfer Protocol\t5.36\n",
      "False \tMercantilismo\t4.88 \tBarroco\t5.36\n",
      "False \tDebian\t4.88 \tReligião\t5.37\n",
      "False \tAquecimento global\t4.88 \tGato de Schrödinger\t5.37\n",
      "False \tRichard Matthew Stallman\t4.88 \tGamão\t5.37\n",
      "False \tGato de Schrödinger\t4.88 \tCientologia\t5.37\n",
      "False \tParlamento Europeu\t4.89 \tBiologia\t5.38\n",
      "False \tDemocracia\t4.89 \tIsaac Newton\t5.38\n",
      "False \tHistória da biologia\t4.89 \tE-mail\t5.38\n",
      "False \tIsaac Newton\t4.90 \tTabuleiro (xadrez)\t5.38\n",
      "False \tTabela periódica\t4.90 \tHidrogénio\t5.39\n",
      "False \tSocialismo\t4.90 \tPolítica\t5.39\n",
      "False \tProgramação estruturada\t4.90 \tSoftware livre nos governos\t5.39\n",
      "False \tBanco de dados\t4.91 \tEntretenimento\t5.40\n",
      "False \tFeudalismo\t4.91 \tTemperatura\t5.40\n",
      "False \tHidrogénio\t4.91 \tParlamento Europeu\t5.41\n",
      "False \tCavalo (xadrez)\t4.91 \tDescobridores de Catan\t5.41\n",
      "False \tTrance psicadélico\t4.91 \tMercantilismo\t5.41\n",
      "False \tTeoria da recapitulação\t4.91 \tCapitalismo\t5.42\n",
      "False \tSoftware livre nos governos\t4.91 \tCavalo (xadrez)\t5.42\n",
      "False \tTeoria dos grafos\t4.91 \tAquecimento global\t5.42\n",
      "False \tKDE\t4.91 \tDemocracia\t5.42\n",
      "False \tCircuito integrado\t4.91 \tEmpirismo\t5.42\n",
      "False \tOS/2\t4.92 \tRichard Matthew Stallman\t5.42\n",
      "False \tRembrandt\t4.92 \tDebian\t5.43\n",
      "False \tMovimento browniano\t4.92 \tDemocracia direta\t5.43\n",
      "False \tPolítica\t4.92 \tBanco de dados\t5.43\n",
      "False \tLuís de Camões\t4.92 \tCircuito integrado\t5.43\n",
      "False \tSymbian\t4.92 \tOS/2\t5.43\n",
      "False \tEntretenimento\t4.92 \tNicolau Maquiavel\t5.43\n",
      "False \tCapitalismo\t4.93 \tPlaneta\t5.44\n",
      "False \tPeão (xadrez)\t4.94 \tAcordeão\t5.44\n",
      "False \tSistema Internacional de Unidades\t4.94 \tEncyclopædia Britannica\t5.44\n",
      "False \tPlaneta\t4.94 \tSocialismo\t5.44\n",
      "False \tDemocracia direta\t4.94 \tAntropologia\t5.46\n",
      "False \tNavegador web\t4.94 \tEstatística\t5.46\n",
      "False \tTemperatura\t4.94 \tUnião Europeia\t5.46\n",
      "False \tNazismo\t4.95 \tPeão (xadrez)\t5.46\n",
      "False \tMentira\t4.95 \tProgramação estruturada\t5.47\n",
      "False \tBíblia\t4.95 \tTurismo\t5.47\n",
      "False \tEmpirismo\t4.95 \tBíblia\t5.48\n",
      "False \tFilogenia\t4.95 \tTeoria da recapitulação\t5.48\n",
      "False \tAcordeão\t4.95 \tCapivara\t5.48\n",
      "True \tLei de Say\t4.95 \tLei de Say\t5.48\n",
      "False \tBiologia\t4.95 \tCélula\t5.48\n",
      "False \tDodô\t4.96 \tPropulsão de naves espaciais\t5.49\n",
      "False \tTabuleiro (xadrez)\t4.96 \tRembrandt\t5.49\n",
      "False \tEncyclopædia Britannica\t4.96 \tSistema Solar\t5.49\n",
      "False \tMicrosoft Windows\t4.97 \tLua\t5.50\n",
      "False \tBiosfera\t4.97 \tTrance psicadélico\t5.50\n",
      "False \tAnarquismo\t4.97 \tMagic: The Gathering\t5.50\n",
      "False \tSanto\t4.97 \tCometa\t5.50\n",
      "False \tGNOME\t4.97 \tGaláxia\t5.51\n",
      "False \tMagic: The Gathering\t4.97 \tTeletrabalho\t5.51\n",
      "False \tPropulsão de naves espaciais\t4.98 \tCinética química\t5.51\n",
      "False \tCometa\t4.98 \tMentira\t5.52\n",
      "False \tPrimatas\t4.98 \tEnciclopédia\t5.52\n",
      "False \tFlash mob\t4.98 \tTotalitarismo\t5.53\n",
      "False \tTorre (xadrez)\t4.98 \tMacOS\t5.54\n",
      "False \tCapivara\t4.98 \tFeudalismo\t5.54\n",
      "False \tImperialismo cultural\t4.99 \tFecundação\t5.54\n",
      "False \tRevolução Industrial\t4.99 \tLiteratura\t5.54\n",
      "False \tSistema Solar\t4.99 \tPrimatas\t5.55\n",
      "False \tTeletrabalho\t4.99 \tImperialismo cultural\t5.55\n",
      "False \tDante Alighieri\t4.99 \tBispo (xadrez)\t5.55\n",
      "False \tEstatística\t5.00 \tAstronomia\t5.55\n",
      "False \tSistemática\t5.00 \tNavegador web\t5.55\n",
      "False \tFecundação\t5.00 \tBlaise Pascal\t5.55\n",
      "False \tTurismo\t5.00 \tSom\t5.55\n",
      "False \tTotalitarismo\t5.01 \tTorre (xadrez)\t5.56\n",
      "False \tRei Artur\t5.01 \tLuís de Camões\t5.56\n",
      "False \tRaciocínio baseado em casos\t5.01 \tDodô\t5.56\n",
      "False \tAnselmo de Cantuária\t5.02 \tRevolução Industrial\t5.56\n",
      "False \tCinética química\t5.02 \tSistema Internacional de Unidades\t5.56\n",
      "False \tEnciclopédia\t5.02 \tFilogenia\t5.56\n",
      "False \tSom\t5.02 \tTipografia\t5.56\n",
      "False \tUnião Europeia\t5.02 \tAstrofísica\t5.57\n",
      "False \tBispo (xadrez)\t5.02 \tBiosfera\t5.57\n",
      "False \tA Igreja de Jesus Cristo dos Santos dos Últimos Dias\t5.02 \tSanto\t5.57\n",
      "False \tTipografia\t5.02 \tSun Tzu\t5.58\n",
      "False \tLua\t5.03 \tTelefone celular\t5.59\n",
      "False \tCinema\t5.03 \tRei (xadrez)\t5.59\n",
      "False \tWeb semântica\t5.04 \tMico-leão-dourado\t5.59\n",
      "False \tGeorg Cantor\t5.04 \tMamíferos\t5.59\n",
      "False \tBlog\t5.04 \tAves\t5.60\n",
      "False \tMonarquia\t5.04 \tCampo elétrico\t5.60\n",
      "False \tCélula\t5.04 \tDante Alighieri\t5.60\n",
      "False \tApolo\t5.04 \tFunção (matemática)\t5.60\n",
      "False \tAlbert Einstein\t5.04 \tMonarquia\t5.61\n",
      "False \tIdade Média\t5.04 \tNazismo\t5.61\n",
      "False \tFunção (matemática)\t5.04 \tA Igreja de Jesus Cristo dos Santos dos Últimos Dias\t5.61\n",
      "False \tHino Nacional Brasileiro\t5.05 \tIgreja\t5.61\n",
      "False \tMico-leão-dourado\t5.05 \tPapa\t5.61\n",
      "False \tMicronacionalismo\t5.05 \tNumismática\t5.61\n",
      "False \tCharles Darwin\t5.05 \tEnrico Fermi\t5.62\n",
      "False \tLiteratura\t5.05 \tAnarquismo\t5.62\n",
      "False \tPapa\t5.05 \tOxigénio\t5.62\n",
      "False \tDamas\t5.06 \tWeb semântica\t5.62\n",
      "False \tFascismo\t5.06 \tAlbert Einstein\t5.62\n",
      "False \tGaláxia\t5.06 \tGalileu Galilei\t5.62\n",
      "False \tGalileu Galilei\t5.06 \tBlog\t5.63\n",
      "False \tIgreja\t5.06 \tFlash mob\t5.63\n",
      "False \tMamíferos\t5.06 \tGeorg Cantor\t5.63\n",
      "False \tVikings\t5.06 \tSistemática\t5.63\n",
      "False \tBlaise Pascal\t5.07 \tMercúrio (planeta)\t5.63\n",
      "False \tAnálise do comportamento\t5.07 \tÉster\t5.63\n",
      "False \tAves\t5.07 \tTelepatia\t5.63\n",
      "False \tRei (xadrez)\t5.07 \tSol\t5.63\n",
      "False \tBytecode Java\t5.07 \tAnálise do comportamento\t5.64\n",
      "False \tTelepatia\t5.08 \tMembrana plasmática\t5.64\n",
      "False \tGeologia\t5.08 \tAgricultura orgânica\t5.64\n",
      "False \tAlforria\t5.08 \tNetuno (planeta)\t5.65\n",
      "False \tAngola\t5.08 \tPlutão\t5.65\n",
      "False \tAstronomia\t5.09 \tAnatomia\t5.65\n",
      "False \tOs Maias\t5.09 \tRadiação eletromagnética\t5.65\n",
      "False \tRepública\t5.09 \tEuclides\t5.65\n",
      "False \tCalendário\t5.09 \tJohn Dewey\t5.66\n",
      "False \tInquisição\t5.10 \tHino Nacional Brasileiro\t5.66\n",
      "False \tW. Somerset Maugham\t5.10 \tTerra\t5.66\n",
      "False \tSun Tzu\t5.10 \tMP3\t5.66\n",
      "False \tSNOBOL 4\t5.10 \tAnanás\t5.67\n",
      "False \tMercúrio (planeta)\t5.10 \tIdade Média\t5.67\n",
      "False \tAnton Tchekhov\t5.10 \tCinema\t5.67\n",
      "False \tEnrico Fermi\t5.10 \tAutomobilismo\t5.68\n",
      "False \tPintura\t5.11 \tMilagre\t5.68\n",
      "False \tNetuno (planeta)\t5.11 \tAngola\t5.68\n",
      "False \tNumismática\t5.11 \tCharles Darwin\t5.68\n",
      "False \tVoleibol de praia\t5.11 \tW. Somerset Maugham\t5.70\n",
      "False \tHistória do Japão\t5.11 \tMoscou\t5.70\n",
      "False \tEfeito Doppler\t5.11 \tRepública\t5.70\n",
      "False \tCampo elétrico\t5.11 \tAnno Domini\t5.70\n",
      "False \tMama\t5.11 \tRei Artur\t5.71\n",
      "False \tTruco\t5.11 \tTrance\t5.71\n",
      "False \tUmbanda\t5.12 \tApolo\t5.71\n",
      "False \tVorbis\t5.12 \tCalendário judaico\t5.71\n",
      "False \tPolimerização\t5.12 \tJaguatirica\t5.71\n",
      "False \tMP3\t5.12 \tVénus (planeta)\t5.71\n",
      "False \tLide (jornalismo)\t5.12 \tRaciocínio baseado em casos\t5.71\n",
      "False \tSolaris (sistema operacional)\t5.12 \tIrlanda\t5.72\n",
      "False \tAquiles\t5.12 \tAçores\t5.72\n",
      "False \tAstrofísica\t5.12 \tAlforria\t5.72\n",
      "False \tMoscou\t5.12 \tNASA\t5.72\n",
      "False \tCristianismo\t5.13 \tNiels Bohr\t5.73\n",
      "False \tOxigénio\t5.13 \tMama\t5.73\n",
      "False \tMemória somente de leitura\t5.13 \tEncíclica\t5.74\n",
      "False \tLei de Murphy\t5.13 \tHumberto Maturana\t5.74\n",
      "False \tSol\t5.13 \tDarwinismo\t5.74\n",
      "False \tJohn Dewey\t5.13 \tGaliza\t5.74\n",
      "False \tÉster\t5.13 \tÁustria\t5.74\n",
      "False \tPlutão\t5.13 \tAnselmo de Cantuária\t5.74\n",
      "False \tHistologia\t5.13 \tGene\t5.74\n",
      "False \tPedro Álvares Cabral\t5.13 \tSaxões\t5.75\n",
      "False \tEncíclica\t5.13 \tComportamento\t5.75\n",
      "False \tAgricultura orgânica\t5.13 \tMarte (planeta)\t5.75\n",
      "False \tEuclides\t5.13 \tFutebol americano\t5.75\n",
      "False \tCarl Sagan\t5.13 \tCabo Verde\t5.75\n",
      "False \tVénus (planeta)\t5.14 \tMicronacionalismo\t5.75\n",
      "False \tAnatomia\t5.14 \tVikings\t5.75\n",
      "False \tComportamento\t5.14 \tIdentidade trigonométrica\t5.76\n",
      "False \tPlanilha eletrônica\t5.14 \tFascismo\t5.76\n",
      "False \tAnno Domini\t5.14 \tFunção trigonométrica\t5.76\n",
      "False \tTelefone celular\t5.14 \tNúmero inteiro\t5.76\n",
      "False \tNASA\t5.14 \tCarl Sagan\t5.76\n",
      "False \tCalendário judaico\t5.14 \tCalendário\t5.76\n",
      "False \tTradução automática\t5.14 \tLei de Murphy\t5.76\n",
      "False \tAugusto dos Anjos\t5.15 \tPintura\t5.76\n",
      "False \tAnanás\t5.15 \tSaturno (planeta)\t5.76\n",
      "False \tTrance\t5.15 \tPrémio Nobel\t5.76\n",
      "False \tDarwin (sistema operacional)\t5.15 \tAgrofloresta\t5.76\n",
      "False \tAgrofloresta\t5.15 \tLide (jornalismo)\t5.76\n",
      "False \tGene\t5.15 \tDamas\t5.77\n",
      "False \tJaguatirica\t5.15 \tAugusto dos Anjos\t5.77\n",
      "False \tIluminismo\t5.16 \tHistória do Japão\t5.78\n",
      "False \tChoro\t5.16 \tÁsia\t5.78\n",
      "False \tEducação\t5.16 \tÍndia\t5.78\n",
      "False \tHistória da China\t5.16 \tMichael Faraday\t5.78\n",
      "False \tMembrana plasmática\t5.16 \tTradução automática\t5.79\n",
      "False \tSaxões\t5.16 \tBioquímica\t5.79\n",
      "False \tAutomobilismo\t5.16 \tHistologia\t5.79\n",
      "False \tMacOS\t5.16 \tAntártida\t5.79\n",
      "False \tRadiação eletromagnética\t5.16 \tMedicina\t5.80\n",
      "False \tMilagre\t5.17 \tTóquio\t5.80\n",
      "False \tIrlanda\t5.17 \tBuenos Aires\t5.80\n",
      "False \tHumberto Maturana\t5.17 \tTruco\t5.80\n",
      "False \tHistória\t5.17 \tHistória da China\t5.80\n",
      "False \tTerra\t5.17 \tQuímica analítica\t5.80\n",
      "False \tAçores\t5.17 \tChoro\t5.81\n",
      "False \tDireito do consumidor\t5.17 \tAgronomia\t5.81\n",
      "False \tQuímica analítica\t5.17 \tJapão\t5.81\n",
      "False \tLeft Behind (série de livros)\t5.17 \tGodos\t5.81\n",
      "False \tSalvador Dalí\t5.17 \tIluminismo\t5.81\n",
      "False \tPositivismo\t5.17 \tInquisição\t5.81\n",
      "False \tBehaviorismo radical\t5.17 \tSolaris (sistema operacional)\t5.81\n",
      "False \tAntibiótico\t5.17 \tGeologia\t5.81\n",
      "False \tIdo\t5.17 \tFogo\t5.82\n",
      "False \tClima\t5.17 \tPolimerização\t5.82\n",
      "False \tMarte (planeta)\t5.18 \tOs Maias\t5.82\n",
      "False \tAbraão\t5.18 \tFicção científica\t5.82\n",
      "False \tPlasmídeo\t5.18 \tTerrorismo\t5.82\n",
      "False \tEdgar Allan Poe\t5.18 \tIdo\t5.82\n",
      "False \tEfeito fotoelétrico\t5.18 \tEducação\t5.82\n",
      "False \tÍndia\t5.18 \tRússia\t5.82\n",
      "False \tTóquio\t5.18 \tAndorra\t5.83\n",
      "False \tFogo\t5.18 \tCidade do México\t5.83\n",
      "False \tMedicina\t5.19 \tKurt Gödel\t5.83\n",
      "False \tCabo Verde\t5.19 \tChina\t5.84\n",
      "True \tPortal (internet)\t5.19 \tPortal (internet)\t5.84\n",
      "False \tGermanos\t5.19 \tLeft Behind (série de livros)\t5.84\n",
      "False \tZeus\t5.19 \tJames Clerk Maxwell\t5.84\n",
      "False \tNiels Bohr\t5.19 \tCristianismo\t5.84\n",
      "False \tRotação de culturas\t5.19 \tFrança\t5.84\n",
      "False \tCaronte (satélite)\t5.19 \tAnton Tchekhov\t5.84\n",
      "False \tMário de Andrade\t5.19 \tAlemanha\t5.84\n",
      "False \tDarwinismo\t5.19 \tViena\t5.84\n",
      "False \tChimpanzé\t5.20 \tAlfabeto\t5.84\n",
      "False \tCastro Alves\t5.20 \tBrasil\t5.84\n",
      "False \tFolk contemporâneo\t5.20 \tIlha de São Jorge\t5.84\n",
      "False \tÁsia\t5.20 \tUmbanda\t5.85\n",
      "False \tBotânica\t5.20 \tBrasileiros\t5.85\n",
      "False \tPrémio Nobel\t5.20 \tPedro Álvares Cabral\t5.85\n",
      "False \tEuropa\t5.20 \tAbraão\t5.85\n",
      "False \tColonização do Brasil\t5.21 \tNoruega\t5.85\n",
      "False \tTerrorismo\t5.21 \tDistrito de Faro\t5.85\n",
      "False \tEducação ambiental\t5.21 \tPortugal\t5.86\n",
      "False \tAutofagia\t5.21 \tSalvador Dalí\t5.86\n",
      "False \tSaturno (planeta)\t5.21 \tAlgarve\t5.86\n",
      "False \tChina\t5.21 \tZeus\t5.86\n",
      "False \tFutebol americano\t5.21 \tJogos Olímpicos\t5.86\n",
      "False \tAmbrósio\t5.21 \tVoleibol de praia\t5.86\n",
      "False \tIdade Moderna\t5.21 \tMemória somente de leitura\t5.86\n",
      "False \tJapão\t5.21 \tEfeito fotoelétrico\t5.86\n",
      "False \tRússia\t5.21 \tPolónia\t5.86\n",
      "False \tGaliza\t5.21 \tEuropa\t5.86\n",
      "False \tÁustria\t5.21 \tMacau\t5.86\n",
      "False \tÍndice de Desenvolvimento Humano\t5.22 \tGrécia\t5.86\n",
      "False \tRevolução Francesa\t5.22 \tBehaviorismo radical\t5.87\n",
      "False \tMacau\t5.22 \tCuritiba\t5.87\n",
      "False \tGodos\t5.22 \tMário de Andrade\t5.87\n",
      "False \tÍman\t5.22 \tFolk contemporâneo\t5.87\n",
      "False \tBrasil\t5.22 \tDireito do consumidor\t5.87\n",
      "False \tAntártida\t5.22 \tVorbis\t5.87\n",
      "False \tOscar Wilde\t5.22 \tRoraima\t5.87\n",
      "False \tMichael Faraday\t5.22 \tIlha Terceira\t5.87\n",
      "False \tItália\t5.23 \tArgentina\t5.88\n",
      "False \tFrança\t5.23 \tItália\t5.88\n",
      "False \tArtesanato\t5.23 \tPríon\t5.88\n",
      "False \tAbolicionismo no Brasil\t5.23 \tArqueologia\t5.88\n",
      "False \tBrasileiros\t5.23 \tCoimbra\t5.88\n",
      "False \tTelefone\t5.23 \tRotação de culturas\t5.88\n",
      "False \tKurt Gödel\t5.23 \tAntibiótico\t5.88\n",
      "False \tAgronomia\t5.23 \tPositivismo\t5.88\n",
      "False \tGrécia\t5.23 \tTelefone\t5.88\n",
      "False \tAdolf Hitler\t5.23 \tBotânica\t5.88\n",
      "False \tFicção científica\t5.23 \tHistória\t5.88\n",
      "False \tIlha Terceira\t5.24 \tURI\t5.88\n",
      "False \tSantos Dumont\t5.24 \tOscar Wilde\t5.88\n",
      "False \tAlemanha\t5.24 \tGermanos\t5.88\n",
      "False \tHistória do Antigo Egito\t5.24 \tEspanha\t5.89\n",
      "False \tEspanha\t5.24 \tHistória do Antigo Egito\t5.89\n",
      "False \tJogos Olímpicos\t5.24 \tDesporto\t5.89\n",
      "False \tCálculo vetorial\t5.24 \tIdade Moderna\t5.89\n",
      "False \tNoruega\t5.24 \tEdgar Allan Poe\t5.89\n",
      "False \tAlgarve\t5.24 \tPlanilha eletrônica\t5.90\n",
      "False \tDesporto\t5.24 \tCombustão\t5.90\n",
      "False \tConímbriga\t5.24 \tChimpanzé\t5.90\n",
      "False \tConscienciologia\t5.25 \tFolclore\t5.90\n",
      "False \tEscultura\t5.25 \tPlasmídeo\t5.90\n",
      "False \tArqueologia\t5.25 \tCálculo vetorial\t5.90\n",
      "False \tHistória da Europa\t5.25 \tArménia\t5.91\n",
      "False \tSebastião José de Carvalho e Melo\t5.25 \tFundamentalismo islâmico\t5.91\n",
      "False \tPríon\t5.25 \tDarwin (sistema operacional)\t5.91\n",
      "False \tDança\t5.25 \tAquiles\t5.91\n",
      "False \tPortugal\t5.25 \tGeorge Orwell\t5.91\n",
      "False \tJames Clerk Maxwell\t5.25 \tCompanhia de Jesus\t5.91\n",
      "False \tCoimbra\t5.25 \tAmbrósio\t5.91\n",
      "False \tIdentidade trigonométrica\t5.26 \tConímbriga\t5.91\n",
      "False \tArménia\t5.26 \tColonização do Brasil\t5.91\n",
      "False \tURI\t5.26 \tEfeito Doppler\t5.91\n",
      "False \tFunção trigonométrica\t5.26 \tBeja\t5.92\n",
      "False \tCidade do México\t5.26 \tArtesanato\t5.92\n",
      "False \tFundamentalismo islâmico\t5.26 \tBelo Horizonte\t5.92\n",
      "False \tDinis I de Portugal\t5.26 \tUruguai\t5.92\n",
      "False \tMoçambique\t5.26 \tAustrália\t5.93\n",
      "False \tHertz\t5.26 \tEscultura\t5.93\n",
      "False \tDistrito de Faro\t5.26 \tEducação ambiental\t5.93\n",
      "False \tZoologia\t5.26 \tMoçambique\t5.93\n",
      "False \tPolónia\t5.26 \tEstados Unidos\t5.93\n",
      "False \tInvenção\t5.27 \tNeorrealismo\t5.93\n",
      "False \tAdriano\t5.27 \tMéxico\t5.93\n",
      "False \tAndorra\t5.27 \tClima\t5.93\n",
      "False \tEstados Unidos\t5.27 \tAbolicionismo no Brasil\t5.94\n",
      "False \tNeorrealismo\t5.27 \tNobel de Literatura\t5.94\n",
      "False \tBuenos Aires\t5.27 \tInvenção\t5.94\n",
      "False \tMovimento\t5.27 \tGeografia do Brasil\t5.94\n",
      "False \tMicroeletrônica\t5.27 \tNova Zelândia\t5.94\n",
      "False \tMedicina baseada em evidências\t5.27 \tUniversidade Federal do Rio de Janeiro\t5.94\n",
      "False \tCompanhia de Jesus\t5.28 \tLisboa\t5.94\n",
      "False \tBioquímica\t5.28 \tParis\t5.94\n",
      "False \tInglaterra\t5.28 \tÍndice de Desenvolvimento Humano\t5.95\n",
      "False \tNúmero hiper-real\t5.28 \tBerlim\t5.95\n",
      "False \tGeorge Orwell\t5.28 \tBytecode Java\t5.95\n",
      "False \tThe X-Files\t5.28 \tTransporte\t5.95\n",
      "False \tFelidae\t5.28 \tAmazonas\t5.95\n",
      "False \tGuiné-Bissau\t5.28 \tMinas Gerais\t5.95\n",
      "False \tNicolau Copérnico\t5.28 \tVila Nova de Gaia\t5.95\n",
      "False \tUruguai\t5.28 \tFlorianópolis\t5.95\n",
      "False \tMaria, a Judia\t5.28 \tMandioca\t5.95\n",
      "False \tLisboa\t5.29 \tPorto\t5.95\n",
      "False \tCuritiba\t5.29 \tHouse music\t5.96\n",
      "False \tLampião (cangaceiro)\t5.29 \tBraga\t5.96\n",
      "False \tVirginia Woolf\t5.29 \tRecife\t5.96\n",
      "False \tInterlíngua\t5.29 \tCeará\t5.96\n",
      "False \tNúmero inteiro\t5.29 \tBrasília\t5.96\n",
      "False \tPeixe\t5.29 \tSamora Machel\t5.96\n",
      "False \tMarco Vipsânio Agripa\t5.29 \tLondres\t5.96\n",
      "False \tArgentina\t5.29 \tRoma\t5.96\n",
      "False \tPaul Erdős\t5.29 \tNicolau Copérnico\t5.96\n",
      "False \tInformática\t5.29 \tSantos Dumont\t5.97\n",
      "False \tFlorianópolis\t5.29 \tMarco Vipsânio Agripa\t5.97\n",
      "False \tAlfabeto\t5.30 \tTorre de Tóquio\t5.97\n",
      "False \tHenrique I de Inglaterra\t5.30 \tRevolução Francesa\t5.97\n",
      "False \tCidadania\t5.30 \tCarbúnculo\t5.97\n",
      "False \tSamora Machel\t5.30 \tBélgica\t5.97\n",
      "False \tMéxico\t5.30 \tAutofagia\t5.97\n",
      "False \tSamba\t5.30 \tSebastião José de Carvalho e Melo\t5.97\n",
      "False \tIlha de São Jorge\t5.30 \tInglaterra\t5.97\n",
      "False \tCarbúnculo\t5.30 \tÍman\t5.97\n",
      "False \tTorre de Tóquio\t5.30 \tBauru\t5.97\n",
      "False \tFolclore\t5.30 \tLudwig van Beethoven\t5.97\n",
      "False \tHino nacional\t5.30 \tAmérica Latina\t5.98\n",
      "False \tAustrália\t5.30 \tZoologia\t5.98\n",
      "False \tNobel de Literatura\t5.31 \tIpatinga\t5.98\n",
      "False \tLinus Torvalds\t5.31 \tMicroeletrônica\t5.98\n",
      "False \tNova Zelândia\t5.31 \tColômbia\t5.98\n",
      "False \tTaxonomia de Lineu\t5.31 \tPeru\t5.98\n",
      "False \tLudwig van Beethoven\t5.31 \tAfeganistão\t5.98\n",
      "False \tGuerra do Contestado\t5.31 \tGuiné-Bissau\t5.98\n",
      "False \tTransporte\t5.32 \tAdriano\t5.98\n",
      "False \tComunicação visual\t5.32 \tHistória da Europa\t5.99\n",
      "False \tHistória da África\t5.32 \tCanadá\t5.99\n",
      "False \tBeja\t5.32 \tConscienciologia\t5.99\n",
      "True \tBiologia molecular\t5.32 \tBiologia molecular\t5.99\n",
      "False \tViena\t5.32 \tHino nacional\t5.99\n",
      "False \tCerúmen\t5.32 \tRobert Hooke\t5.99\n",
      "False \tAgricultura\t5.32 \tDistrito Federal (Brasil)\t5.99\n",
      "False \tCeará\t5.32 \tVenezuela\t6.00\n",
      "False \tAmérica Latina\t5.32 \tInterlíngua\t6.00\n",
      "False \tAllan Kardec\t5.32 \tCastro Alves\t6.00\n",
      "False \tHistória do Brasil\t5.32 \tAllan Kardec\t6.00\n",
      "False \tRoraima\t5.32 \tPaul Erdős\t6.01\n",
      "False \tProjeto GNU\t5.32 \tVirginia Woolf\t6.01\n",
      "False \tEmbriologia\t5.34 \tCaronte (satélite)\t6.01\n",
      "False \tVenezuela\t5.34 \tDinis I de Portugal\t6.01\n",
      "False \tEn passant\t5.34 \tCalifórnia\t6.01\n",
      "False \tPeru\t5.34 \tCombustível fóssil\t6.01\n",
      "False \tAfeganistão\t5.34 \tSNOBOL 4\t6.02\n",
      "False \tPentium\t5.34 \tAmérica do Sul\t6.02\n",
      "False \tBelo Horizonte\t5.34 \tCidadania\t6.02\n",
      "False \tJean-Baptiste de Lamarck\t5.34 \tAdolf Hitler\t6.02\n",
      "False \tHipótese de Oparin e Haldane\t5.34 \tPeixe\t6.02\n",
      "False \tUniversidade Federal do Rio de Janeiro\t5.35 \tLampião (cangaceiro)\t6.02\n",
      "False \tBromelaína\t5.35 \tThe X-Files\t6.02\n",
      "False \tJogo de tabuleiro\t5.35 \tAtenas\t6.02\n",
      "False \tColômbia\t5.35 \tMovimento\t6.02\n",
      "False \tLegião Urbana\t5.35 \tMaranhão\t6.02\n",
      "False \tEletromagnetismo\t5.35 \tHistória da África\t6.03\n",
      "False \tOnda\t5.35 \tReino Unido\t6.03\n",
      "False \tPeças de xadrez\t5.35 \tDança\t6.03\n",
      "False \tCanadá\t5.35 \tFibra óptica\t6.03\n",
      "False \tGeografia do Brasil\t5.35 \tGoiás\t6.03\n",
      "False \tVila Nova de Gaia\t5.35 \tHertz\t6.03\n",
      "False \tPaca\t5.35 \tSuriname\t6.04\n",
      "False \tMinas Gerais\t5.35 \tAmesterdão\t6.04\n",
      "False \tInconfidência Mineira\t5.36 \tLegião Urbana\t6.04\n",
      "False \tAlbino Forjaz de Sampaio\t5.36 \tVitória (Espírito Santo)\t6.04\n",
      "False \tBraga\t5.36 \tAgricultura\t6.04\n",
      "False \tPré-história\t5.36 \tSão Paulo Futebol Clube\t6.04\n",
      "False \tAtenas\t5.36 \tLinus Torvalds\t6.04\n",
      "False \tReino Unido\t5.36 \tFelidae\t6.04\n",
      "False \tRoma\t5.36 \tAlbânia\t6.04\n",
      "False \tAmérica do Sul\t5.36 \tGraciosa\t6.05\n",
      "False \tHouse music\t5.36 \tPeças de xadrez\t6.05\n",
      "False \tRecife\t5.36 \tAmapá\t6.05\n",
      "False \tCanonização\t5.36 \tNúmero hiper-real\t6.06\n",
      "False \tPrévia (mídia)\t5.37 \tDescobrimentos portugueses\t6.06\n",
      "False \tGetúlio Vargas\t5.37 \tSamba\t6.06\n",
      "False \tCombustível fóssil\t5.37 \tEletromagnetismo\t6.06\n",
      "False \tTitãs (banda)\t5.37 \tAlbino Forjaz de Sampaio\t6.06\n",
      "False \tParis\t5.37 \tMedicina baseada em evidências\t6.06\n",
      "False \tEstrutura algébrica\t5.37 \tInformática\t6.06\n",
      "False \tGranulócito eosinófilo\t5.37 \tSergipe\t6.06\n",
      "False \tFibra óptica\t5.37 \tRio Mondego\t6.07\n",
      "False \tMaranhão\t5.37 \tHistória do Brasil\t6.07\n",
      "False \tNapster\t5.37 \tOnda\t6.07\n",
      "False \tRock and roll\t5.37 \tCondado Portucalense\t6.07\n",
      "False \tBélgica\t5.37 \tIlha de São Miguel\t6.07\n",
      "False \tPedro Alexandre\t5.37 \tMaria, a Judia\t6.08\n",
      "False \tLondres\t5.38 \tSetúbal\t6.08\n",
      "False \tFidel Castro\t5.38 \tEmbriologia\t6.08\n",
      "False \tFagocitose\t5.38 \tRock and roll\t6.08\n",
      "False \tBauru\t5.38 \tRio Tejo\t6.08\n",
      "False \tHistória do Afeganistão\t5.38 \tForró\t6.08\n",
      "False \tOstrogodos\t5.38 \tGuerra do Contestado\t6.08\n",
      "False \tFilatelia\t5.38 \tBahia\t6.09\n",
      "False \tGlicogénio\t5.38 \tPedro Alexandre\t6.09\n",
      "False \tAlbânia\t5.39 \tHipótese de Oparin e Haldane\t6.09\n",
      "False \tCalifórnia\t5.39 \tGetúlio Vargas\t6.10\n",
      "False \tSuriname\t5.39 \tOstrogodos\t6.10\n",
      "False \tSão Paulo Futebol Clube\t5.39 \tPiauí\t6.10\n",
      "False \tPorto\t5.39 \tRondônia\t6.11\n",
      "False \tAmazonas\t5.39 \tNapster\t6.11\n",
      "False \tJânio Quadros\t5.39 \tEn passant\t6.11\n",
      "False \tMitologia\t5.39 \tVisigodos\t6.11\n",
      "False \tSegunda Guerra Mundial\t5.39 \tPará\t6.11\n",
      "False \tGoiás\t5.40 \tHenrique I de Inglaterra\t6.11\n",
      "False \tBerlim\t5.40 \tPenínsula Ibérica\t6.11\n",
      "False \tVisigodos\t5.40 \tTitãs (banda)\t6.11\n",
      "False \tPosição\t5.40 \tFilatelia\t6.12\n",
      "False \tTales de Mileto\t5.40 \tPequim\t6.12\n",
      "False \tPaís de Gales\t5.40 \tJean-Baptiste de Lamarck\t6.12\n",
      "False \tIpatinga\t5.40 \tTaxonomia de Lineu\t6.12\n",
      "False \tJuscelino Kubitschek\t5.40 \tSaquarema\t6.12\n",
      "False \tCombustão\t5.41 \tInconfidência Mineira\t6.12\n",
      "False \tRobert Hooke\t5.41 \tAlagoas\t6.12\n",
      "False \tDescobrimentos portugueses\t5.41 \tEspírito Santo (estado)\t6.12\n",
      "False \tThomas Mann\t5.41 \tPrévia (mídia)\t6.12\n",
      "False \tBrasília\t5.41 \tPré-história\t6.13\n",
      "False \tModem\t5.41 \tSancho II de Portugal\t6.13\n",
      "False \tGato de pelo curto brasileiro\t5.41 \tJânio Quadros\t6.14\n",
      "False \tDeslocamento\t5.41 \tSão Tomé e Príncipe\t6.14\n",
      "False \tBahia\t5.41 \tPeter Paul Rubens\t6.14\n",
      "False \tMandioca\t5.42 \tSão Paulo (estado)\t6.14\n",
      "False \tGraciosa\t5.42 \tProjeto GNU\t6.14\n",
      "False \tCosmos\t5.42 \tPernambuco\t6.14\n",
      "False \tSancho II de Portugal\t5.42 \tThomas Mann\t6.15\n",
      "False \tGalego-português\t5.42 \tHistória do Afeganistão\t6.15\n",
      "False \tInternet Relay Chat\t5.42 \tRio Grande do Norte\t6.15\n",
      "False \tNeolítico\t5.43 \tHenrique, Duque de Viseu\t6.15\n",
      "False \tSetúbal\t5.43 \tMaringá\t6.15\n",
      "False \tOntologia\t5.43 \tPentium\t6.15\n",
      "False \tAltifalante\t5.43 \tAlhazen\t6.15\n",
      "False \tIntel\t5.43 \tIlha do Faial\t6.15\n",
      "False \tIlha do Faial\t5.43 \tClube de Regatas do Flamengo\t6.15\n",
      "False \tAlhazen\t5.43 \tComunicação visual\t6.15\n",
      "False \tCatolicidade\t5.43 \tTirana\t6.16\n",
      "False \tMuro de Berlim\t5.43 \tUruguaiana\t6.16\n",
      "False \tAlagoas\t5.44 \tMato Grosso do Sul\t6.16\n",
      "False \tTratado de Versalhes (1919)\t5.44 \tCanonização\t6.16\n",
      "False \tDistrito Federal (Brasil)\t5.44 \tCerúmen\t6.17\n",
      "False \tWerner Heisenberg\t5.44 \tCriciúma\t6.17\n",
      "False \tBossa nova\t5.44 \tJuscelino Kubitschek\t6.17\n",
      "False \tAntiga e Mística Ordem Rosae Crucis\t5.44 \tMato Grosso\t6.17\n",
      "False \tPiauí\t5.44 \tJogo de tabuleiro\t6.17\n",
      "False \tCondado Portucalense\t5.44 \tNeolítico\t6.18\n",
      "False \tAmapá\t5.44 \tPaca\t6.18\n",
      "False \tBartolomeu Dias\t5.44 \tBossa nova\t6.18\n",
      "False \tEstados físicos da matéria\t5.44 \tRio Grande do Sul\t6.18\n",
      "False \tDoença de Creutzfeldt-Jakob\t5.45 \tTales de Mileto\t6.18\n",
      "False \tPeter Paul Rubens\t5.45 \tRio de Janeiro (estado)\t6.19\n",
      "False \tHenrique, Duque de Viseu\t5.45 \tVinicius de Moraes\t6.19\n",
      "False \tBenito Mussolini\t5.45 \tMitologia\t6.20\n",
      "False \tGuerra dos Emboabas\t5.45 \tLuiz Inácio Lula da Silva\t6.20\n",
      "False \tHans Christian Andersen\t5.45 \tLínguas românicas\t6.20\n",
      "False \tPernambuco\t5.45 \tFidel Castro\t6.20\n",
      "False \tForró\t5.45 \tSegunda Guerra Mundial\t6.20\n",
      "False \tPenínsula Ibérica\t5.45 \tOiapoque\t6.21\n",
      "False \tRio Mondego\t5.45 \tBromelaína\t6.21\n",
      "False \tAmesterdão\t5.45 \tOrtodoxia\t6.22\n",
      "False \tHipotálamo\t5.45 \tGalego-português\t6.22\n",
      "False \tClube de Regatas do Flamengo\t5.46 \tEmbu das Artes\t6.22\n",
      "False \tIlha de São Miguel\t5.46 \tTratado de Versalhes (1919)\t6.22\n",
      "False \tÁlvares de Azevedo\t5.46 \tVitória de Santo Antão\t6.22\n",
      "False \tPequim\t5.46 \tPaís de Gales\t6.22\n",
      "False \tOrtodoxia\t5.46 \tFafe\t6.22\n",
      "False \tSergipe\t5.46 \tGibraltar\t6.22\n",
      "False \tEuro\t5.46 \tGoa\t6.23\n",
      "False \tMário Soares\t5.47 \tEstrutura algébrica\t6.23\n",
      "False \tVelocidade\t5.47 \tParaná\t6.23\n",
      "False \tConcórdia\t5.47 \tBartolomeu Dias\t6.23\n",
      "False \tStefan Zweig\t5.47 \tIlha de Santa Maria\t6.23\n",
      "False \tUniversidade de Coimbra\t5.47 \tGuerra dos Emboabas\t6.23\n",
      "False \tEngenharia química\t5.47 \tArarinha-azul\t6.23\n",
      "False \tPará\t5.47 \tBenito Mussolini\t6.24\n",
      "False \tVinicius de Moraes\t5.47 \tAmérica\t6.24\n",
      "False \tVitória (Espírito Santo)\t5.47 \tOceano Ártico\t6.24\n",
      "False \tPupunha\t5.47 \tCavalo-marinho\t6.24\n",
      "False \tSaquarema\t5.47 \tVasco da Gama\t6.24\n",
      "False \tLuiz Inácio Lula da Silva\t5.47 \tOs Paralamas do Sucesso\t6.25\n",
      "False \tReferencial\t5.47 \tWerner Heisenberg\t6.25\n",
      "False \tBehaviorismo metodológico\t5.48 \tGuiana Francesa\t6.25\n",
      "False \tEva Braun\t5.48 \tEsoterismo\t6.25\n",
      "False \tAceleração\t5.48 \tMário Soares\t6.25\n",
      "False \tTycho Brahe\t5.48 \tMuro de Berlim\t6.25\n",
      "True \tTeófilo Braga\t5.48 \tTeófilo Braga\t6.26\n",
      "False \tRio Grande do Sul\t5.48 \tMogi das Cruzes\t6.26\n",
      "False \tGoa\t5.49 \tCosmos\t6.26\n",
      "False \tMato Grosso\t5.49 \tGranulócito eosinófilo\t6.27\n",
      "False \tVasco da Gama\t5.49 \tSanta Catarina\t6.27\n",
      "False \tArquivo sonoro\t5.49 \tAltifalante\t6.27\n",
      "False \tRio Grande do Norte\t5.49 \tLeovegildo Lins da Gama Júnior\t6.27\n",
      "False \tTirana\t5.49 \tPosição\t6.27\n",
      "False \tOs Paralamas do Sucesso\t5.50 \tCatolicidade\t6.27\n",
      "False \tHemácia\t5.50 \tAfonso III de Portugal\t6.28\n",
      "False \tSão Tomé e Príncipe\t5.50 \tHans Christian Andersen\t6.28\n",
      "False \tAntónio Egas Moniz\t5.50 \tExposição Mundial de 1998\t6.28\n",
      "False \tConceito\t5.50 \tHipotálamo\t6.28\n",
      "False \tAldous Huxley\t5.50 \tAntiga e Mística Ordem Rosae Crucis\t6.28\n",
      "False \tUruguaiana\t5.50 \tÁlvares de Azevedo\t6.28\n",
      "False \tRio Tejo\t5.50 \tTocantins\t6.28\n",
      "False \tCláudio Manuel da Costa\t5.50 \tInternet Relay Chat\t6.28\n",
      "False \tAverróis\t5.50 \tIgarassu\t6.28\n",
      "False \tRondônia\t5.50 \tAlexandre Rodrigues Ferreira\t6.29\n",
      "False \tLeovegildo Lins da Gama Júnior\t5.50 \tEngenharia química\t6.29\n",
      "False \tLíngua mirandesa\t5.50 \tParaíba\t6.29\n",
      "False \tAfonso IV de Portugal\t5.51 \tOceano Atlântico\t6.30\n",
      "False \tCarvão mineral\t5.51 \tVelocidade\t6.30\n",
      "False \tBaião (música)\t5.51 \tEva Braun\t6.30\n",
      "False \tEspírito Santo (estado)\t5.51 \tEstados físicos da matéria\t6.30\n",
      "False \tEsoterismo\t5.51 \tConcórdia\t6.30\n",
      "False \tPartido Socialista (Portugal)\t5.51 \tAfonso IV de Portugal\t6.31\n",
      "False \tHarpia harpyja\t5.51 \tFagocitose\t6.31\n",
      "False \tSão Paulo (estado)\t5.51 \tUniversidade de Coimbra\t6.31\n",
      "False \tBebida alcoólica\t5.51 \tDeslocamento\t6.31\n",
      "False \tPedro I de Portugal\t5.51 \tGlicogénio\t6.31\n",
      "False \tMicroscópio\t5.51 \tPupunha\t6.31\n",
      "False \tMaringá\t5.51 \tRenato Russo\t6.31\n",
      "False \tHans Christian Ørsted\t5.51 \tIntel\t6.32\n",
      "False \tCarboquímica\t5.51 \tOntologia\t6.32\n",
      "False \tMato Grosso do Sul\t5.51 \tTycho Brahe\t6.32\n",
      "False \tAsteroide\t5.52 \tGato de pelo curto brasileiro\t6.32\n",
      "False \tArarinha-azul\t5.52 \tEuro\t6.32\n",
      "False \tLei de Moore\t5.52 \tArquivo sonoro\t6.32\n",
      "False \tCriciúma\t5.52 \tBebida alcoólica\t6.33\n",
      "False \tRenato Russo\t5.52 \tMicroscópio\t6.33\n",
      "False \tAlexandre Pushkin\t5.52 \tCláudio Manuel da Costa\t6.34\n",
      "False \tExposição Mundial de 1998\t5.53 \tErnest Rutherford\t6.34\n",
      "False \tAmérica\t5.53 \tO Livro dos Espíritos\t6.34\n",
      "False \tErnest Rutherford\t5.53 \tLei de Moore\t6.34\n",
      "False \tLarry Wall\t5.53 \tReferencial\t6.34\n",
      "False \tDiálise\t5.53 \tFrançois Truffaut\t6.34\n",
      "False \tRio de Janeiro (estado)\t5.53 \tBalança hidrostática\t6.35\n",
      "False \tAfonso III de Portugal\t5.54 \tBehaviorismo metodológico\t6.35\n",
      "False \tParaná\t5.54 \tAldous Huxley\t6.35\n",
      "False \tDinâmica\t5.54 \tAverróis\t6.35\n",
      "False \tConselho da União Europeia\t5.54 \tStefan Zweig\t6.36\n",
      "False \tGibraltar\t5.54 \tSport Club Corinthians Paulista\t6.36\n",
      "True \tHeródoto\t5.54 \tHeródoto\t6.36\n",
      "False \tAuguste e Louis Lumière\t5.55 \tAntónio Egas Moniz\t6.37\n",
      "False \tBalança hidrostática\t5.55 \tPedro I de Portugal\t6.37\n",
      "False \tTinta invisível\t5.55 \tMontemor-o-Velho\t6.38\n",
      "False \tASCII\t5.55 \tUbatuba\t6.38\n",
      "False \tPersonal digital assistant\t5.55 \tAceleração\t6.38\n",
      "False \tSéculo XIX\t5.55 \tEtileno\t6.38\n",
      "False \tEtileno\t5.55 \tSuevos\t6.39\n",
      "False \tLojban\t5.56 \tConsumo\t6.40\n",
      "False \tNormandos\t5.56 \tDoença de Creutzfeldt-Jakob\t6.40\n",
      "False \tEtimologia\t5.56 \tOuricuri\t6.40\n",
      "False \tUtilitário\t5.56 \tNormandos\t6.40\n",
      "False \tParaíba\t5.56 \tHarpia harpyja\t6.40\n",
      "False \tArmin van Buuren\t5.57 \tAlexandre Pushkin\t6.41\n",
      "False \tFloema\t5.57 \tLíngua mirandesa\t6.41\n",
      "False \tConsumo\t5.57 \tSão Sebastião do Passé\t6.41\n",
      "False \tEstereótipo UML\t5.57 \tWishful thinking\t6.41\n",
      "False \tBalaiada\t5.57 \tOceano Antártico\t6.41\n",
      "False \tW3C\t5.57 \tOceano Pacífico\t6.42\n",
      "False \tSanta Catarina\t5.57 \tModem\t6.42\n",
      "False \tRapidez\t5.57 \tPartido Socialista (Portugal)\t6.42\n",
      "False \tSuevos\t5.57 \tHemácia\t6.42\n",
      "False \tPolítica do Japão\t5.57 \tDistrito de Leiria\t6.42\n",
      "False \tSaturno (mitologia)\t5.58 \tBaião (música)\t6.42\n",
      "False \tAnálise matemática\t5.58 \tIlha das Flores (Açores)\t6.42\n",
      "False \tFrançois Truffaut\t5.58 \tHans Christian Ørsted\t6.42\n",
      "False \tLépton\t5.58 \tOceano Índico\t6.43\n",
      "False \tEmbu das Artes\t5.58 \tConceito\t6.45\n",
      "False \tObjetivo\t5.58 \tFigueira da Foz\t6.45\n",
      "False \tConjunção lógica\t5.59 \tLojban\t6.45\n",
      "False \tVexilologia\t5.59 \tAuguste e Louis Lumière\t6.45\n",
      "False \tLiero\t5.59 \tÁgueda\t6.46\n",
      "False \tHistória da Albânia\t5.59 \tPecuária\t6.46\n",
      "False \tSport Club Corinthians Paulista\t5.59 \tValquírias\t6.46\n",
      "False \tAfonso II de Portugal\t5.59 \tErnest Hemingway\t6.46\n",
      "False \tRoque (xadrez)\t5.59 \tVersões da língua portuguesa\t6.47\n",
      "False \tVoyager 2\t5.59 \tGuglielmo Marconi\t6.48\n",
      "False \tVersões da língua portuguesa\t5.59 \tIlha do Pico\t6.48\n",
      "False \tSelma Lagerlöf\t5.59 \tDinâmica\t6.48\n",
      "False \tUrano (mitologia)\t5.60 \tArmin van Buuren\t6.48\n",
      "False \tGuglielmo Marconi\t5.60 \tTinta invisível\t6.48\n",
      "False \tFigueira da Foz\t5.60 \tCarvão mineral\t6.48\n",
      "False \tCavalo-marinho\t5.60 \tIPAQ\t6.48\n",
      "False \tErnest Hemingway\t5.60 \tAfonso II de Portugal\t6.49\n",
      "False \tExperiência de Miller e Urey\t5.60 \tPersonal digital assistant\t6.49\n",
      "False \tSancho I de Portugal\t5.60 \tBambuco\t6.49\n",
      "False \tBambuco\t5.61 \tFloema\t6.50\n",
      "False \tMogi das Cruzes\t5.61 \tComissão Europeia\t6.50\n",
      "False \tAleksandr Oparin\t5.61 \tBalaiada\t6.50\n",
      "False \tFafe\t5.61 \tHidrodinâmica\t6.50\n",
      "False \tCD-R\t5.61 \tCarboquímica\t6.50\n",
      "False \tFerro de passar\t5.61 \tObjetivo\t6.50\n",
      "False \tComissão Europeia\t5.61 \tSaturno (mitologia)\t6.50\n",
      "False \tIPAQ\t5.61 \tEtimologia\t6.50\n",
      "False \tVitória de Santo Antão\t5.61 \tVarre-Sai\t6.51\n",
      "False \tAlexandre Rodrigues Ferreira\t5.62 \tSancho I de Portugal\t6.51\n",
      "False \tLínguas românicas\t5.62 \tVexilologia\t6.52\n",
      "False \tIlha de Santa Maria\t5.62 \tConquista de Ceuta\t6.52\n",
      "False \tOceano Ártico\t5.62 \tAleksandr Oparin\t6.53\n",
      "False \tOiapoque\t5.62 \tAstrócito\t6.53\n",
      "False \tGuiana Francesa\t5.62 \tPolítica do Japão\t6.53\n",
      "False \tWishful thinking\t5.63 \tCabanagem\t6.53\n",
      "False \tA Carta da Terra\t5.63 \tDistrito de Coimbra\t6.54\n",
      "False \tValquírias\t5.63 \tW3C\t6.54\n",
      "False \tPeríodo Clássico (música)\t5.63 \tSão Leopoldo\t6.54\n",
      "False \tAnimal Farm\t5.63 \tMatias Olímpio\t6.54\n",
      "False \tRevolta do Quebra-Quilos\t5.63 \tLarry Wall\t6.54\n",
      "False \tConquista de Ceuta\t5.64 \tEstereótipo UML\t6.54\n",
      "False \tOceano Atlântico\t5.64 \tRoque (xadrez)\t6.54\n",
      "False \tSão Sebastião do Passé\t5.64 \tUrano (mitologia)\t6.54\n",
      "False \tSão Leopoldo\t5.64 \tMairinque\t6.54\n",
      "False \tMycoplasma\t5.64 \tDiálise\t6.55\n",
      "False \tMontemor-o-Velho\t5.64 \tOrganização\t6.55\n",
      "False \tPasárgada\t5.64 \tMuriqui-do-sul\t6.55\n",
      "False \tMunicípio (Brasil)\t5.65 \tConselho da União Europeia\t6.55\n",
      "False \tCatalisador\t5.65 \tASCII\t6.56\n",
      "False \tOrnitologia\t5.65 \tJaó\t6.56\n",
      "False \tOrganização\t5.65 \tSéculo XIX\t6.56\n",
      "False \tBula pontifícia\t5.65 \tCaribe\t6.56\n",
      "False \tOceano Antártico\t5.65 \tConjunção lógica\t6.56\n",
      "False \tOceano Índico\t5.65 \tOrnitologia\t6.56\n",
      "False \tActina\t5.65 \tAnálise matemática\t6.57\n",
      "False \tVoto tático\t5.66 \tSelma Lagerlöf\t6.57\n",
      "False \tMatias Olímpio\t5.66 \tCondeixa-a-Nova\t6.57\n",
      "False \tShareaza\t5.66 \tAmérica do Norte\t6.57\n",
      "False \tAstrócito\t5.66 \tAsteroide\t6.58\n",
      "False \tVarre-Sai\t5.66 \tCatalisador\t6.58\n",
      "False \tCabanagem\t5.66 \tFerro de passar\t6.58\n",
      "False \tTocantins\t5.66 \tMycoplasma\t6.58\n",
      "False \tMonera\t5.66 \tCD-R\t6.59\n",
      "False \tAkbar\t5.66 \tLépton\t6.59\n",
      "False \tRoger Bacon\t5.67 \tAkbar\t6.59\n",
      "False \tIlha das Flores (Açores)\t5.67 \tRapidez\t6.59\n",
      "False \tDesnaturação\t5.67 \tFilosofia da matemática\t6.60\n",
      "False \tHamster\t5.67 \tSemântica\t6.60\n",
      "False \tIgarassu\t5.67 \tHistória da Albânia\t6.60\n",
      "False \tHidrodinâmica\t5.68 \tExperiência de Miller e Urey\t6.60\n",
      "False \tStatus quo\t5.69 \tPeríodo Clássico (música)\t6.60\n",
      "False \tGoverno Federal do Brasil\t5.69 \tAnimal Farm\t6.60\n",
      "False \tFunções químicas\t5.69 \tRoger Bacon\t6.61\n",
      "False \tGlândula\t5.69 \tVoyager 2\t6.61\n",
      "False \tFluido não newtoniano\t5.69 \tEngenharia metalúrgica\t6.61\n",
      "False \tSemântica\t5.69 \tRevolta do Quebra-Quilos\t6.62\n",
      "False \tSítio\t5.69 \tGoverno Federal do Brasil\t6.62\n",
      "False \tEngenharia metalúrgica\t5.69 \tLinks\t6.63\n",
      "False \tURL\t5.69 \tAntoine Henri Becquerel\t6.63\n",
      "False \tÁlgebra booliana\t5.69 \tArara-azul-de-lear\t6.63\n",
      "False \tOuricuri\t5.70 \tDesnaturação\t6.64\n",
      "False \tGuy de Maupassant\t5.70 \tPraxis (engenharia de software)\t6.64\n",
      "False \tHidrocarboneto\t5.70 \tUtilitário\t6.65\n",
      "False \tMacuco\t5.70 \tSítio\t6.65\n",
      "False \tCondeixa-a-Nova\t5.70 \tFunções químicas\t6.65\n",
      "False \tCitoquímica\t5.70 \tMonera\t6.65\n",
      "False \tAndré II da Hungria\t5.70 \tCitoquímica\t6.65\n",
      "False \tProteoma\t5.70 \tMunicípio (Brasil)\t6.65\n",
      "False \tBeatificação\t5.71 \tLiero\t6.66\n",
      "False \tLinks\t5.71 \tBula pontifícia\t6.67\n",
      "False \tArara-azul-de-lear\t5.71 \tStatus quo\t6.67\n",
      "False \tMuriqui-do-sul\t5.71 \tAmparo de São Francisco\t6.67\n",
      "False \tPraxis (engenharia de software)\t5.71 \tOlimpíada\t6.67\n",
      "False \tJoão Gonçalves Zarco\t5.72 \tPasárgada\t6.68\n",
      "False \tUbatuba\t5.72 \tSchroeder\t6.70\n",
      "False \tOceano Pacífico\t5.72 \tHamster\t6.70\n",
      "False \tHormona\t5.72 \tA Carta da Terra\t6.70\n",
      "False \tJaó\t5.72 \tMacuco\t6.70\n",
      "False \tFilosofia da matemática\t5.73 \tJoão Gonçalves Zarco\t6.70\n",
      "False \tAntônio Mariano de Oliveira\t5.73 \tGregor Mendel\t6.71\n",
      "False \tO Livro dos Espíritos\t5.74 \tRetículo endoplasmático\t6.71\n",
      "False \tO Gene Egoísta\t5.74 \tVoto tático\t6.71\n",
      "False \tRetículo endoplasmático\t5.74 \tFluido não newtoniano\t6.71\n",
      "False \tTecnologia\t5.75 \tCatabolismo\t6.71\n",
      "False \tCamille Pissarro\t5.75 \tAndré II da Hungria\t6.72\n",
      "False \tOlimpíada\t5.75 \tShareaza\t6.72\n",
      "False \tHumor aquoso\t5.75 \tActina\t6.73\n",
      "False \tGouryella\t5.75 \tGeociência\t6.73\n",
      "False \tCatabolismo\t5.75 \tA Ideia Perigosa de Darwin\t6.73\n",
      "False \tGregor Mendel\t5.76 \tCamilo Pessanha\t6.74\n",
      "False \tÁgueda\t5.76 \tAndré-Marie Ampère\t6.74\n",
      "False \tAntoine Henri Becquerel\t5.76 \tPenela\t6.75\n",
      "False \tSchroeder\t5.76 \tAlphonsus de Guimaraens\t6.76\n",
      "False \tTambaba\t5.76 \tGlândula\t6.76\n",
      "False \tAmérica do Norte\t5.77 \tAutólise\t6.77\n",
      "False \tDistrito de Leiria\t5.77 \tAntônio Mariano de Oliveira\t6.77\n",
      "False \tJaneiro\t5.77 \tHormona\t6.77\n",
      "False \tAutólise\t5.77 \tBeatificação\t6.77\n",
      "False \tAndré-Marie Ampère\t5.77 \tProteoma\t6.77\n",
      "False \tNotações do xadrez\t5.77 \tEngenharia do ambiente\t6.78\n",
      "False \tMáquina virtual Java\t5.77 \tURL\t6.78\n",
      "False \tA Ideia Perigosa de Darwin\t5.79 \tTecnologia\t6.78\n",
      "False \tGeociência\t5.79 \tGuy de Maupassant\t6.79\n",
      "True \tAveiro\t5.79 \tAveiro\t6.79\n",
      "False \tCamilo Pessanha\t5.79 \tHumor aquoso\t6.79\n",
      "False \tCopa do Mundo FIFA de 2002\t5.79 \tItambé (Bahia)\t6.80\n",
      "False \tPenela\t5.80 \tAntónio Guterres\t6.80\n",
      "False \tAlphonsus de Guimaraens\t5.80 \tHidrocarboneto\t6.80\n",
      "False \tMutum-do-nordeste\t5.80 \tTiësto\t6.80\n",
      "False \tAndrew Wiles\t5.80 \tComprimento\t6.80\n",
      "False \tComprimento\t5.80 \tCamille Pissarro\t6.81\n",
      "False \tAntónio Guterres\t5.81 \tJaneiro\t6.81\n",
      "False \tMaria Eduarda\t5.81 \tO Gene Egoísta\t6.82\n",
      "False \tMatosinhos\t5.81 \tIbirama\t6.82\n",
      "False \tIlha do Pico\t5.81 \tÁlgebra booliana\t6.83\n",
      "False \tEngenharia do ambiente\t5.81 \tGouryella\t6.83\n",
      "False \tFisiologia\t5.81 \tNotações do xadrez\t6.83\n",
      "False \tLouveira (São Paulo)\t5.82 \tMatosinhos\t6.84\n",
      "False \tÁcido carboxílico\t5.82 \tMutum-do-nordeste\t6.84\n",
      "False \tMegatokyo\t5.82 \tCopa do Mundo FIFA de 2002\t6.84\n",
      "False \tPecuária\t5.82 \tGil Eanes\t6.84\n",
      "False \tThomas Pynchon\t5.83 \tAndrew Wiles\t6.85\n",
      "False \tLista de governantes do Brasil\t5.83 \tMáquina virtual Java\t6.85\n",
      "False \tCasimiro de Abreu\t5.83 \tEntre Folhas\t6.86\n",
      "False \tEuropa Ocidental\t5.83 \tTambaba\t6.86\n",
      "False \tAmparo de São Francisco\t5.83 \tLuigi Pirandello\t6.87\n",
      "False \tInhame\t5.83 \tFisiologia\t6.87\n",
      "True \tGranulócito basófilo\t5.83 \tGranulócito basófilo\t6.88\n",
      "True \tEngenharia eletrônica\t5.83 \tEngenharia eletrônica\t6.88\n",
      "False \tHeterotrofismo\t5.84 \tDistrito de Castelo Branco\t6.89\n",
      "False \tSururina\t5.84 \tHeinrich Hertz\t6.89\n",
      "False \tGil Eanes\t5.84 \tHeterotrofismo\t6.89\n",
      "False \tCloroplasto\t5.84 \tLista de governantes do Brasil\t6.90\n",
      "False \tLeme\t5.85 \tLouveira (São Paulo)\t6.90\n",
      "False \tAnticoagulante\t5.85 \tLeme\t6.91\n",
      "False \tItambé (Bahia)\t5.85 \tDistrito de Braga\t6.91\n",
      "False \tCaribe\t5.85 \tÁcido carboxílico\t6.91\n",
      "False \tEric Steven Raymond\t5.85 \tH\t6.91\n",
      "False \tLinfa\t5.85 \tMegatokyo\t6.92\n",
      "False \tDistrito de Coimbra\t5.85 \tModelo das partículas fluidas\t6.93\n",
      "False \tTropix\t5.86 \tAnticoagulante\t6.93\n",
      "False \tPaul van Dyk\t5.86 \tThomas Pynchon\t6.94\n",
      "False \tTiësto\t5.87 \tSururina\t6.94\n",
      "False \tModelo das partículas fluidas\t5.87 \tTropix\t6.94\n",
      "False \tAlexandre (nome)\t5.87 \tMaria Eduarda\t6.94\n",
      "False \tLafcádio Hearn\t5.87 \tCasimiro de Abreu\t6.94\n",
      "False \tEntre Folhas\t5.87 \tThe Times\t6.94\n",
      "False \tMairinque\t5.87 \tPaul van Dyk\t6.95\n",
      "False \tIbirama\t5.88 \tPerestroika\t6.96\n",
      "False \tLuigi Pirandello\t5.88 \tMogadouro\t6.97\n",
      "False \tLenda urbana\t5.88 \tGabriel de Tarde\t6.97\n",
      "False \tH\t5.90 \tLafcádio Hearn\t6.97\n",
      "False \tMac OS Classic\t5.90 \tLenda urbana\t6.98\n",
      "False \tPerestroika\t5.90 \tEric Steven Raymond\t6.98\n",
      "False \tHeinrich Hertz\t5.91 \tLinfa\t6.98\n",
      "False \tGabriel de Tarde\t5.91 \tEuropa Ocidental\t7.00\n",
      "False \tJakob Wassermann\t5.91 \tCodorna-pequena\t7.00\n",
      "False \tKonrad Adenauer\t5.92 \tMac OS Classic\t7.01\n",
      "False \tIgreja Ortodoxa Grega de Antioquia\t5.92 \tJakob Wassermann\t7.01\n",
      "False \tInterpretação de Copenhaga\t5.92 \tAlexandre (nome)\t7.02\n",
      "False \tTinamiformes\t5.93 \tJoseph John Thomson\t7.02\n",
      "False \tPersistência da visão\t5.93 \tDistrito de Bragança\t7.02\n",
      "False \tDiu\t5.93 \tInhame\t7.03\n",
      "False \tCélula de combustível\t5.94 \tBiologia celular\t7.04\n",
      "False \tJacques Veilliard\t5.94 \tCloroplasto\t7.04\n",
      "False \tCarlos da Maia\t5.94 \tAfonso da Maia\t7.04\n",
      "False \tAfonso da Maia\t5.95 \tIgreja Ortodoxa Grega de Antioquia\t7.05\n",
      "False \tLinda Lovelace\t5.95 \tJacques Veilliard\t7.05\n",
      "False \tMicrobiologia\t5.95 \tLinda Lovelace\t7.06\n",
      "False \tCodorna-pequena\t5.95 \tCarlos da Maia\t7.06\n",
      "False \tEmbrião\t5.95 \tTinamiformes\t7.06\n",
      "False \tConteúdo aberto\t5.95 \tKonrad Adenauer\t7.06\n",
      "False \tMalhada de Pedras\t5.96 \tAnabolismo\t7.07\n",
      "False \tBiologia celular\t5.96 \tPersistência da visão\t7.08\n",
      "False \tJoseph John Thomson\t5.96 \tMicrobiologia\t7.08\n",
      "False \tMogadouro\t5.97 \tInterpretação de Copenhaga\t7.09\n",
      "False \tInhambu-guaçu\t5.97 \tDistrito de Évora\t7.10\n",
      "False \tConstante física\t5.97 \tZabumba\t7.11\n",
      "False \tSirenia\t5.97 \tCova da Beira\t7.11\n",
      "False \tInhambu-anhangá\t5.97 \tItaquiraí\t7.11\n",
      "False \tItaquiraí\t5.97 \tSirenia\t7.12\n",
      "False \tZabumba\t5.98 \tConstante física\t7.12\n",
      "False \tBasílio da Gama\t5.98 \tCalendário islâmico\t7.13\n",
      "False \tDistrito de Braga\t5.99 \tDistrito do Porto\t7.13\n",
      "False \t20000 Varuna\t5.99 \tEmbrião\t7.13\n",
      "False \tAnabolismo\t5.99 \tInhambu-guaçu\t7.15\n",
      "False \tLars Onsager\t5.99 \tDistrito de Portalegre\t7.15\n",
      "False \tCronologia\t6.00 \tMalhada de Pedras\t7.15\n",
      "False \tAbdómen\t6.00 \tSuinã\t7.16\n",
      "False \tCalendário islâmico\t6.01 \tAruaques\t7.16\n",
      "False \tThe Times\t6.01 \tLars Onsager\t7.17\n",
      "False \tRoldão de Siqueira Fontes\t6.02 \tDiu\t7.17\n",
      "False \tMéson\t6.02 \t20000 Varuna\t7.17\n",
      "False \tAzulona\t6.03 \tCélula eucariótica\t7.18\n",
      "False \tOtacílio Costa\t6.03 \tInhambu-anhangá\t7.18\n",
      "False \tCélula eucariótica\t6.04 \tAzulona\t7.18\n",
      "False \tDistrito de Portalegre\t6.04 \tConteúdo aberto\t7.18\n",
      "False \tPeriodização da história\t6.04 \tBasílio da Gama\t7.19\n",
      "False \tIndústria química\t6.04 \tPeriodização da história\t7.20\n",
      "True \tDamão\t6.04 \tDamão\t7.20\n",
      "False \tCova da Beira\t6.05 \tMultituberculata\t7.20\n",
      "False \tDistrito de Castelo Branco\t6.05 \tOtacílio Costa\t7.20\n",
      "False \tDistrito de Setúbal\t6.05 \tCélula de combustível\t7.21\n",
      "True \tLimnologia\t6.05 \tLimnologia\t7.21\n",
      "False \tAruaques\t6.05 \tMéson\t7.22\n",
      "False \tLeonid Andreiev\t6.05 \tAbdómen\t7.22\n",
      "False \tRepública do Pampa\t6.06 \tIndústria química\t7.22\n",
      "False \tCarandá\t6.06 \tDistrito de Setúbal\t7.22\n",
      "False \tConstituição apostólica\t6.06 \tCélula animal\t7.23\n",
      "False \tMicrofone\t6.06 \tRoldão de Siqueira Fontes\t7.24\n",
      "False \tMultituberculata\t6.07 \tRepública do Pampa\t7.24\n",
      "False \tSuinã\t6.07 \tCronologia\t7.24\n",
      "False \tCélula animal\t6.08 \tLeonid Andreiev\t7.25\n",
      "False \tDistrito de Évora\t6.08 \tCaldo verde\t7.25\n",
      "False \tDistrito do Porto\t6.09 \tDistrito de Beja\t7.25\n",
      "False \tJohn Steinbeck\t6.09 \tInhambu-relógio\t7.27\n",
      "True \tArara-azul-grande\t6.09 \tArara-azul-grande\t7.27\n",
      "False \tDistrito de Bragança\t6.09 \tTim LaHaye\t7.28\n",
      "False \tInhambu-relógio\t6.10 \tLaurence Sterne\t7.28\n",
      "False \tMaria Gaetana Agnesi\t6.10 \tEntre Douro e Vouga\t7.28\n",
      "False \tLaurence Sterne\t6.10 \tConstituição apostólica\t7.28\n",
      "False \tIdade Contemporânea\t6.11 \tMicrofone\t7.29\n",
      "False \tAponeurose\t6.11 \tJohn Steinbeck\t7.30\n",
      "False \tTim LaHaye\t6.12 \tAponeurose\t7.32\n",
      "False \tEntre Douro e Vouga\t6.12 \tLista de línguas\t7.32\n",
      "False \tCacajao calvus\t6.13 \tItapiranga (Santa Catarina)\t7.32\n",
      "False \tLista de línguas\t6.13 \tCacajao calvus\t7.33\n",
      "False \tDomicílio Conjugal\t6.13 \tHino da Proclamação da República\t7.33\n",
      "False \tCaldo verde\t6.15 \tDistrito de Santarém\t7.34\n",
      "False \tAnatole France\t6.15 \tMaria Gaetana Agnesi\t7.34\n",
      "False \tHora\t6.15 \tCarandá\t7.35\n",
      "False \tCrisópolis\t6.16 \tMovimento peristáltico\t7.36\n",
      "False \tHino da Proclamação da República\t6.17 \tAnatole France\t7.37\n",
      "False \tDelfinópolis\t6.17 \tCrisópolis\t7.38\n",
      "False \tMovimento peristáltico\t6.18 \tBiólogo\t7.39\n",
      "False \tMaria Monforte\t6.19 \tDomicílio Conjugal\t7.39\n",
      "False \tXimenia americana\t6.20 \tDivisa Alegre\t7.40\n",
      "False \tItapiranga (Santa Catarina)\t6.20 \tIdade Contemporânea\t7.40\n",
      "False \tDistrito de Santarém\t6.21 \tMaria Monforte\t7.40\n",
      "False \tBiólogo\t6.22 \tDelfinópolis\t7.43\n",
      "False \tAlfred Jules Ayer\t6.22 \tDiego de Almagro, o Velho\t7.43\n",
      "False \tDiego de Almagro, o Velho\t6.23 \tClaude Jade\t7.44\n",
      "False \tAlessandro Algardi\t6.23 \tCiências da saúde\t7.44\n",
      "False \tItacambira\t6.24 \tLigamento\t7.45\n",
      "False \tDiploide\t6.25 \tHora\t7.45\n",
      "False \tHugh Walpole\t6.25 \tXimenia americana\t7.45\n",
      "False \tNobel de Física\t6.26 \tAlfred Jules Ayer\t7.49\n",
      "False \tDistrito de Beja\t6.28 \tAlessandro Algardi\t7.49\n",
      "False \tDiapedese\t6.29 \tDiploide\t7.50\n",
      "False \tClaude Jade\t6.30 \tHugh Walpole\t7.50\n",
      "False \tCarnívoros\t6.31 \tNobel de Física\t7.50\n",
      "False \tCiências da saúde\t6.31 \tItacambira\t7.53\n",
      "False \tAfonso, Príncipe de Portugal (1475–1491)\t6.31 \tDiapedese\t7.53\n",
      "False \tLeopoldo Miguez\t6.32 \tDistrito de Lisboa\t7.55\n",
      "False \tDistrito da Guarda\t6.32 \tCarnívoros\t7.56\n",
      "False \tSony Mavica\t6.32 \tAfonso, Príncipe de Portugal (1475–1491)\t7.56\n",
      "False \tPedro da Maia\t6.32 \tDistrito da Guarda\t7.56\n",
      "False \tLigamento\t6.33 \tLeopoldo Miguez\t7.57\n",
      "False \tDistrito de Lisboa\t6.34 \tPedro da Maia\t7.58\n",
      "False \tInhambu-xintã\t6.35 \tAmido\t7.65\n",
      "False \tAmido\t6.38 \tSony Mavica\t7.65\n",
      "False \tOeste (sub-região)\t6.38 \tItaquara\t7.66\n",
      "False \tDivisa Alegre\t6.41 \tEdwin Willis\t7.72\n",
      "False \tEdwin Willis\t6.41 \tOeste (sub-região)\t7.72\n",
      "False \tDouro (sub-região)\t6.45 \tInhambu-xintã\t7.72\n",
      "False \tItaquara\t6.45 \tGrande Porto\t7.72\n",
      "True \tHarri Lorenzi\t6.46 \tHarri Lorenzi\t7.81\n",
      "False \tPaul Ernst\t6.48 \tLezíria do Tejo (sub-região)\t7.82\n",
      "False \tGrande Porto\t6.50 \tDouro (sub-região)\t7.82\n",
      "False \tLezíria do Tejo (sub-região)\t6.59 \tGrande Lisboa\t7.85\n",
      "False \tGrande Lisboa\t6.61 \tPaul Ernst\t7.95\n",
      "True \tLista de aves do Brasil\t7.19 \tLista de aves do Brasil\t8.08\n"
     ]
    }
   ],
   "source": [
    "rank_template = \"\\t{0}\\t{1:.2f}\"\n",
    "for std_rank, hash_rank in zip(standard_rank, hashed_rank):\n",
    "    print(std_rank[0]==hash_rank[0], rank_template.format(*std_rank), rank_template.format(*hash_rank))"
   ]
  }
 ],
 "metadata": {
  "kernelspec": {
   "display_name": "Python 3",
   "language": "python",
   "name": "python3"
  },
  "language_info": {
   "codemirror_mode": {
    "name": "ipython",
    "version": 3
   },
   "file_extension": ".py",
   "mimetype": "text/x-python",
   "name": "python",
   "nbconvert_exporter": "python",
   "pygments_lexer": "ipython3",
   "version": "3.8.5"
  }
 },
 "nbformat": 4,
 "nbformat_minor": 2
}
